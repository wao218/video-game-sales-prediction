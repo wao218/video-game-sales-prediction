{
 "cells": [
  {
   "cell_type": "markdown",
   "id": "91e93e3b-3b5c-480b-8033-ba78a53e8bb4",
   "metadata": {},
   "source": [
    "# Video Game Sales Prediction\n",
    "---\n",
    "## Problem Statement\n",
    "(Fill in later)"
   ]
  },
  {
   "cell_type": "markdown",
   "id": "97c9d21f-0252-41d0-a91b-e431bcbb9976",
   "metadata": {},
   "source": [
    "### Load Libraries & Data"
   ]
  },
  {
   "cell_type": "code",
   "execution_count": 1,
   "id": "85d47dc5-a658-4e09-9226-d42428403ba9",
   "metadata": {},
   "outputs": [],
   "source": [
    "import pandas as pd\n",
    "import numpy as np\n",
    "from sklearn.ensemble import RandomForestRegressor\n",
    "from sklearn.preprocessing import StandardScaler, OneHotEncoder\n",
    "from sklearn.metrics import mean_squared_error\n",
    "from sklearn.pipeline import Pipeline\n",
    "from sklearn.model_selection import train_test_split, RandomizedSearchCV\n",
    "from xgboost import XGBRegressor\n"
   ]
  },
  {
   "cell_type": "code",
   "execution_count": 2,
   "id": "38fd04bf-5d76-4c20-a506-9ed8b3ba9734",
   "metadata": {},
   "outputs": [
    {
     "data": {
      "text/html": [
       "<div>\n",
       "<style scoped>\n",
       "    .dataframe tbody tr th:only-of-type {\n",
       "        vertical-align: middle;\n",
       "    }\n",
       "\n",
       "    .dataframe tbody tr th {\n",
       "        vertical-align: top;\n",
       "    }\n",
       "\n",
       "    .dataframe thead th {\n",
       "        text-align: right;\n",
       "    }\n",
       "</style>\n",
       "<table border=\"1\" class=\"dataframe\">\n",
       "  <thead>\n",
       "    <tr style=\"text-align: right;\">\n",
       "      <th></th>\n",
       "      <th>name</th>\n",
       "      <th>platform</th>\n",
       "      <th>genre</th>\n",
       "      <th>publisher</th>\n",
       "      <th>developer</th>\n",
       "      <th>rating</th>\n",
       "      <th>year_of_release</th>\n",
       "      <th>na_sales</th>\n",
       "      <th>eu_sales</th>\n",
       "      <th>jp_sales</th>\n",
       "      <th>other_sales</th>\n",
       "      <th>global_sales</th>\n",
       "      <th>critic_score</th>\n",
       "      <th>critic_count</th>\n",
       "      <th>user_score</th>\n",
       "      <th>user_count</th>\n",
       "    </tr>\n",
       "  </thead>\n",
       "  <tbody>\n",
       "    <tr>\n",
       "      <th>0</th>\n",
       "      <td>Warriors Orochi 3</td>\n",
       "      <td>XOne</td>\n",
       "      <td>Action</td>\n",
       "      <td>Tecmo Koei</td>\n",
       "      <td>unknown</td>\n",
       "      <td>E</td>\n",
       "      <td>2014.0</td>\n",
       "      <td>0.01</td>\n",
       "      <td>0.03</td>\n",
       "      <td>0.00</td>\n",
       "      <td>0.00</td>\n",
       "      <td>0.04</td>\n",
       "      <td>68.997119</td>\n",
       "      <td>26.440992</td>\n",
       "      <td>7.1269</td>\n",
       "      <td>163.008846</td>\n",
       "    </tr>\n",
       "    <tr>\n",
       "      <th>1</th>\n",
       "      <td>Shooter: Starfighter Sanvein</td>\n",
       "      <td>PS</td>\n",
       "      <td>Shooter</td>\n",
       "      <td>Midas Interactive Entertainment</td>\n",
       "      <td>unknown</td>\n",
       "      <td>E</td>\n",
       "      <td>2000.0</td>\n",
       "      <td>0.01</td>\n",
       "      <td>0.01</td>\n",
       "      <td>0.00</td>\n",
       "      <td>0.00</td>\n",
       "      <td>0.02</td>\n",
       "      <td>68.997119</td>\n",
       "      <td>26.440992</td>\n",
       "      <td>7.1269</td>\n",
       "      <td>163.008846</td>\n",
       "    </tr>\n",
       "    <tr>\n",
       "      <th>2</th>\n",
       "      <td>CIMA: The Enemy</td>\n",
       "      <td>GBA</td>\n",
       "      <td>Role-Playing</td>\n",
       "      <td>Marvelous Interactive</td>\n",
       "      <td>Neverland</td>\n",
       "      <td>E</td>\n",
       "      <td>2003.0</td>\n",
       "      <td>0.02</td>\n",
       "      <td>0.01</td>\n",
       "      <td>0.00</td>\n",
       "      <td>0.00</td>\n",
       "      <td>0.03</td>\n",
       "      <td>70.000000</td>\n",
       "      <td>11.000000</td>\n",
       "      <td>7.1269</td>\n",
       "      <td>163.008846</td>\n",
       "    </tr>\n",
       "    <tr>\n",
       "      <th>3</th>\n",
       "      <td>Borderlands: The Pre-Sequel</td>\n",
       "      <td>PS3</td>\n",
       "      <td>Shooter</td>\n",
       "      <td>Take-Two Interactive</td>\n",
       "      <td>2K Australia</td>\n",
       "      <td>M</td>\n",
       "      <td>2014.0</td>\n",
       "      <td>0.26</td>\n",
       "      <td>0.21</td>\n",
       "      <td>0.05</td>\n",
       "      <td>0.10</td>\n",
       "      <td>0.61</td>\n",
       "      <td>77.000000</td>\n",
       "      <td>24.000000</td>\n",
       "      <td>6.3000</td>\n",
       "      <td>130.000000</td>\n",
       "    </tr>\n",
       "    <tr>\n",
       "      <th>4</th>\n",
       "      <td>Destiny</td>\n",
       "      <td>XOne</td>\n",
       "      <td>Shooter</td>\n",
       "      <td>Activision</td>\n",
       "      <td>Bungie Software, Bungie</td>\n",
       "      <td>T</td>\n",
       "      <td>2014.0</td>\n",
       "      <td>2.14</td>\n",
       "      <td>0.92</td>\n",
       "      <td>0.00</td>\n",
       "      <td>0.31</td>\n",
       "      <td>3.37</td>\n",
       "      <td>75.000000</td>\n",
       "      <td>11.000000</td>\n",
       "      <td>5.5000</td>\n",
       "      <td>1735.000000</td>\n",
       "    </tr>\n",
       "  </tbody>\n",
       "</table>\n",
       "</div>"
      ],
      "text/plain": [
       "                           name platform         genre  \\\n",
       "0             Warriors Orochi 3     XOne        Action   \n",
       "1  Shooter: Starfighter Sanvein       PS       Shooter   \n",
       "2               CIMA: The Enemy      GBA  Role-Playing   \n",
       "3   Borderlands: The Pre-Sequel      PS3       Shooter   \n",
       "4                       Destiny     XOne       Shooter   \n",
       "\n",
       "                         publisher                developer rating  \\\n",
       "0                       Tecmo Koei                  unknown      E   \n",
       "1  Midas Interactive Entertainment                  unknown      E   \n",
       "2            Marvelous Interactive                Neverland      E   \n",
       "3             Take-Two Interactive             2K Australia      M   \n",
       "4                       Activision  Bungie Software, Bungie      T   \n",
       "\n",
       "   year_of_release  na_sales  eu_sales  jp_sales  other_sales  global_sales  \\\n",
       "0           2014.0      0.01      0.03      0.00         0.00          0.04   \n",
       "1           2000.0      0.01      0.01      0.00         0.00          0.02   \n",
       "2           2003.0      0.02      0.01      0.00         0.00          0.03   \n",
       "3           2014.0      0.26      0.21      0.05         0.10          0.61   \n",
       "4           2014.0      2.14      0.92      0.00         0.31          3.37   \n",
       "\n",
       "   critic_score  critic_count  user_score   user_count  \n",
       "0     68.997119     26.440992      7.1269   163.008846  \n",
       "1     68.997119     26.440992      7.1269   163.008846  \n",
       "2     70.000000     11.000000      7.1269   163.008846  \n",
       "3     77.000000     24.000000      6.3000   130.000000  \n",
       "4     75.000000     11.000000      5.5000  1735.000000  "
      ]
     },
     "execution_count": 2,
     "metadata": {},
     "output_type": "execute_result"
    }
   ],
   "source": [
    "# Load data\n",
    "video_games = pd.read_csv('../data/train.csv')\n",
    "video_games.head()"
   ]
  },
  {
   "cell_type": "markdown",
   "id": "a3e1cb5b-c8b8-464b-8088-4c4be582dc49",
   "metadata": {},
   "source": [
    "## Modeling"
   ]
  },
  {
   "cell_type": "markdown",
   "id": "4d5e6037-2b3d-414e-84a8-cb5d7d2ba6f9",
   "metadata": {},
   "source": [
    "### Model Preparation"
   ]
  },
  {
   "cell_type": "code",
   "execution_count": 3,
   "id": "27a30021-bdd7-465b-b344-e1c0925b5ef4",
   "metadata": {},
   "outputs": [],
   "source": [
    "# select model features\n",
    "X = video_games.drop(columns=['jp_sales', 'other_sales', 'global_sales', 'name'])\n",
    "# select model target \n",
    "y = video_games['global_sales']\n",
    "\n",
    "# split train data into train and validation sets\n",
    "X_train, X_val, y_train, y_val = train_test_split(X, y, test_size=0.20, random_state=42)"
   ]
  },
  {
   "cell_type": "markdown",
   "id": "c7e849ba-69c1-4fe5-a2dc-bfdc7d31edcf",
   "metadata": {},
   "source": [
    "### Random Forest"
   ]
  },
  {
   "cell_type": "code",
   "execution_count": 11,
   "id": "f948ebba-b447-41a3-ac71-007bf2b9a017",
   "metadata": {},
   "outputs": [
    {
     "name": "stdout",
     "output_type": "stream",
     "text": [
      "Fitting 5 folds for each of 20 candidates, totalling 100 fits\n",
      "RandomForest Best Score: 0.1905655092068375\n",
      "CPU times: user 10min 36s, sys: 855 ms, total: 10min 37s\n",
      "Wall time: 48min 5s\n"
     ]
    },
    {
     "data": {
      "text/plain": [
       "{'rf__n_estimators': 400, 'rf__max_features': 'auto', 'rf__max_depth': 10}"
      ]
     },
     "execution_count": 11,
     "metadata": {},
     "output_type": "execute_result"
    }
   ],
   "source": [
    "%%time\n",
    "# Random Forest pipeline\n",
    "forest_pipe = Pipeline([\n",
    "    ('ohe', OneHotEncoder(sparse=False, handle_unknown='ignore')),\n",
    "    ('sc', StandardScaler()),\n",
    "    ('rf', RandomForestRegressor())\n",
    "])\n",
    "\n",
    "# set up pipe parameters\n",
    "forest_params = {\n",
    "    'rf__n_estimators': np.arange(100, 1100, 100),\n",
    "    'rf__max_depth': np.arange(1,11,1),\n",
    "    'rf__max_features': ['sqrt', 'auto', round(np.random.uniform(0.1, 1.0), 2)]\n",
    "}\n",
    "\n",
    "# instantiate RandomizedSearch with pipe and params\n",
    "forest_rs = RandomizedSearchCV(forest_pipe, forest_params, n_iter=20, cv=5, n_jobs=-1, verbose=1)\n",
    "\n",
    "# fit RandomizedSearch model with train data\n",
    "forest_rs.fit(X_train, y_train)\n",
    "\n",
    "# print best score from best model\n",
    "print('RandomForest Best Score:', forest_rs.best_score_)\n",
    "\n",
    "# print parameters from best model\n",
    "forest_rs.best_params_"
   ]
  },
  {
   "cell_type": "code",
   "execution_count": 13,
   "id": "0628d3b4-e4f2-49d7-8e5c-c949889dc9ae",
   "metadata": {},
   "outputs": [
    {
     "data": {
      "text/plain": [
       "0.5790750693175881"
      ]
     },
     "execution_count": 13,
     "metadata": {},
     "output_type": "execute_result"
    }
   ],
   "source": [
    "# score model on training data (R-squared)\n",
    "forest_rs.score(X_train, y_train)"
   ]
  },
  {
   "cell_type": "code",
   "execution_count": 14,
   "id": "662b7921-0e95-451d-bfe1-fa5f2db4d076",
   "metadata": {},
   "outputs": [
    {
     "data": {
      "text/plain": [
       "0.20146201475239767"
      ]
     },
     "execution_count": 14,
     "metadata": {},
     "output_type": "execute_result"
    }
   ],
   "source": [
    "# score model on validation data (R-squared)\n",
    "forest_rs.score(X_val, y_val)"
   ]
  },
  {
   "cell_type": "code",
   "execution_count": 16,
   "id": "6276a8bd-7a8a-4749-9788-d5a1f52c6639",
   "metadata": {},
   "outputs": [
    {
     "name": "stdout",
     "output_type": "stream",
     "text": [
      "RMSE Train: 0.9138949432228005\n"
     ]
    }
   ],
   "source": [
    "# RMSE for Train Data\n",
    "forest_preds = forest_rs.predict(X_train)\n",
    "print('RMSE Train:', mean_squared_error(y_train, forest_preds, squared=False))"
   ]
  },
  {
   "cell_type": "code",
   "execution_count": 17,
   "id": "09abed22-9220-47d4-89e8-04769813752d",
   "metadata": {},
   "outputs": [
    {
     "name": "stdout",
     "output_type": "stream",
     "text": [
      "RMSE Train: 1.255653451126081\n"
     ]
    }
   ],
   "source": [
    "# RMSE for Validation Data\n",
    "forest_preds = forest_rs.predict(X_val)\n",
    "print('RMSE Train:', mean_squared_error(y_val, forest_preds, squared=False))"
   ]
  },
  {
   "cell_type": "markdown",
   "id": "cb7d2a04-a19d-4363-83e9-6f45a73c3e5e",
   "metadata": {},
   "source": [
    "Overall the tuned RandomForest is performing worse than the untuned RandomForest. Theres potential to explore values closer to the default values of RandomForest over a gridsearch. "
   ]
  },
  {
   "cell_type": "markdown",
   "id": "1c804d31-0173-4e30-bc85-e95156a05a4b",
   "metadata": {
    "tags": []
   },
   "source": [
    "### XGBoost"
   ]
  },
  {
   "cell_type": "code",
   "execution_count": 12,
   "id": "2976e382-46d1-4eed-99c8-555954c7052b",
   "metadata": {},
   "outputs": [
    {
     "name": "stdout",
     "output_type": "stream",
     "text": [
      "Fitting 5 folds for each of 20 candidates, totalling 100 fits\n",
      "XGBoost Best Score: 0.43455558227709146\n",
      "CPU times: user 35min 57s, sys: 6.6 s, total: 36min 3s\n",
      "Wall time: 56min 8s\n"
     ]
    },
    {
     "data": {
      "text/plain": [
       "{'xgb__subsample': 0.8999999999999999,\n",
       " 'xgb__n_estimators': 900,\n",
       " 'xgb__max_depth': 10,\n",
       " 'xgb__learning_rate': 0.15000000000000002,\n",
       " 'xgb__colsample_bytree': 0.6,\n",
       " 'xgb__colsample_bylevel': 0.8999999999999999}"
      ]
     },
     "execution_count": 12,
     "metadata": {},
     "output_type": "execute_result"
    }
   ],
   "source": [
    "%%time\n",
    "# XGBoost pipeline\n",
    "xgb_pipe = Pipeline([\n",
    "    ('ohe', OneHotEncoder(sparse=False, handle_unknown='ignore')),\n",
    "    ('sc', StandardScaler()),\n",
    "    ('xgb', XGBRegressor())\n",
    "])\n",
    "\n",
    "# set up pipe parameters\n",
    "xgb_params = {\n",
    "    'xgb__n_estimators': np.arange(100, 1100, 100),\n",
    "    'xgb__learning_rate': np.arange(0.01, 1.0, 0.01),\n",
    "    'xgb__max_depth': np.arange(1,11,1),\n",
    "    'xgb__subsample': np.arange(0.5, 1.0, 0.1),\n",
    "    'xgb__colsample_bytree': np.arange(0.4, 1.0, 0.1),\n",
    "    'xgb__colsample_bylevel': np.arange(0.4, 1.0, 0.1)\n",
    "}\n",
    "\n",
    "# instaniate Randomized Search with pipe and params\n",
    "xgb_rs = RandomizedSearchCV(xgb_pipe, xgb_params, n_iter=20, cv=5, n_jobs=-1, verbose=1)\n",
    "\n",
    "# fit Randomized Search model with train data\n",
    "xgb_rs.fit(X_train, y_train)\n",
    "\n",
    "# print best score from best model\n",
    "print('XGBoost Best Score:', xgb_rs.best_score_)\n",
    "\n",
    "# print parameters from best model\n",
    "xgb_rs.best_params_"
   ]
  },
  {
   "cell_type": "code",
   "execution_count": 18,
   "id": "22ff2a23-13fe-487e-a8c6-1e9fa0c89d08",
   "metadata": {},
   "outputs": [
    {
     "data": {
      "text/plain": [
       "0.9970510178885698"
      ]
     },
     "execution_count": 18,
     "metadata": {},
     "output_type": "execute_result"
    }
   ],
   "source": [
    "# score model on training data (R-squared)\n",
    "xgb_rs.score(X_train, y_train)"
   ]
  },
  {
   "cell_type": "code",
   "execution_count": 19,
   "id": "b51e3d5f-b8a1-4239-941f-41db7cb85586",
   "metadata": {},
   "outputs": [
    {
     "data": {
      "text/plain": [
       "0.3638125089510651"
      ]
     },
     "execution_count": 19,
     "metadata": {},
     "output_type": "execute_result"
    }
   ],
   "source": [
    "# score model on validation data (R-squared)\n",
    "xgb_rs.score(X_val, y_val)"
   ]
  },
  {
   "cell_type": "code",
   "execution_count": 20,
   "id": "d63779c0-b37d-450c-97c7-78348748091f",
   "metadata": {},
   "outputs": [
    {
     "name": "stdout",
     "output_type": "stream",
     "text": [
      "RMSE Train: 0.07649446628439566\n"
     ]
    }
   ],
   "source": [
    "# RMSE for Train Data\n",
    "xgb_preds = xgb_rs.predict(X_train)\n",
    "print('RMSE Train:', mean_squared_error(y_train, xgb_preds, squared=False))"
   ]
  },
  {
   "cell_type": "code",
   "execution_count": 21,
   "id": "45ca1e37-1a2d-4aab-b2ac-03b6da3c9636",
   "metadata": {},
   "outputs": [
    {
     "name": "stdout",
     "output_type": "stream",
     "text": [
      "RMSE Train: 1.1207650194336796\n"
     ]
    }
   ],
   "source": [
    "# RMSE for Validation Data\n",
    "xgb_preds = xgb_rs.predict(X_val)\n",
    "print('RMSE Train:', mean_squared_error(y_val, xgb_preds, squared=False))"
   ]
  },
  {
   "cell_type": "markdown",
   "id": "3f7dc333-98f0-4766-b63b-78c02948f87b",
   "metadata": {},
   "source": [
    "Overall XGBoost is over fitting. It isn't performing than the baseline of 0.53. There is slightly more overfitting occurring than the untuned XGBoost."
   ]
  },
  {
   "cell_type": "code",
   "execution_count": null,
   "id": "8f0faa27-ab08-4c85-ad7b-5f5743206a93",
   "metadata": {},
   "outputs": [],
   "source": []
  }
 ],
 "metadata": {
  "kernelspec": {
   "display_name": "Python 3 (ipykernel)",
   "language": "python",
   "name": "python3"
  },
  "language_info": {
   "codemirror_mode": {
    "name": "ipython",
    "version": 3
   },
   "file_extension": ".py",
   "mimetype": "text/x-python",
   "name": "python",
   "nbconvert_exporter": "python",
   "pygments_lexer": "ipython3",
   "version": "3.9.7"
  }
 },
 "nbformat": 4,
 "nbformat_minor": 5
}
