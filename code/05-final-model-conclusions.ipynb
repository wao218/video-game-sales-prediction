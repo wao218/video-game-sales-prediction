{
 "cells": [
  {
   "cell_type": "markdown",
   "id": "c9634c49-afe4-4255-b497-171bce920e29",
   "metadata": {},
   "source": [
    "# Video Game Sales Prediction\n",
    "---\n",
    "## Problem Statement\n",
    "Gaming analytics company wants to understand the gaming market better. They want a model to predict the global sales of video games to provide better service to their constumers. Goal is to get the lowest RMSE possible."
   ]
  },
  {
   "cell_type": "markdown",
   "id": "54d6e020-3203-4647-bf9a-52fde1d9b799",
   "metadata": {},
   "source": [
    "### Load Libraries & Data"
   ]
  },
  {
   "cell_type": "code",
   "execution_count": 2,
   "id": "2d59933c-5f66-4caf-b4e2-37322c4baec9",
   "metadata": {},
   "outputs": [],
   "source": [
    "import pandas as pd\n",
    "import numpy as np\n",
    "from sklearn.ensemble import RandomForestRegressor\n",
    "from sklearn.preprocessing import StandardScaler, OneHotEncoder\n",
    "from sklearn.metrics import mean_squared_error\n",
    "from sklearn.pipeline import Pipeline\n",
    "from sklearn.model_selection import train_test_split, GridSearchCV\n"
   ]
  },
  {
   "cell_type": "code",
   "execution_count": 6,
   "id": "d6f68a35-6ef3-4a0c-a294-1364022183c0",
   "metadata": {},
   "outputs": [
    {
     "data": {
      "text/html": [
       "<div>\n",
       "<style scoped>\n",
       "    .dataframe tbody tr th:only-of-type {\n",
       "        vertical-align: middle;\n",
       "    }\n",
       "\n",
       "    .dataframe tbody tr th {\n",
       "        vertical-align: top;\n",
       "    }\n",
       "\n",
       "    .dataframe thead th {\n",
       "        text-align: right;\n",
       "    }\n",
       "</style>\n",
       "<table border=\"1\" class=\"dataframe\">\n",
       "  <thead>\n",
       "    <tr style=\"text-align: right;\">\n",
       "      <th></th>\n",
       "      <th>name</th>\n",
       "      <th>platform</th>\n",
       "      <th>genre</th>\n",
       "      <th>publisher</th>\n",
       "      <th>developer</th>\n",
       "      <th>rating</th>\n",
       "      <th>year_of_release</th>\n",
       "      <th>na_sales</th>\n",
       "      <th>eu_sales</th>\n",
       "      <th>jp_sales</th>\n",
       "      <th>other_sales</th>\n",
       "      <th>global_sales</th>\n",
       "      <th>critic_score</th>\n",
       "      <th>critic_count</th>\n",
       "      <th>user_score</th>\n",
       "      <th>user_count</th>\n",
       "    </tr>\n",
       "  </thead>\n",
       "  <tbody>\n",
       "    <tr>\n",
       "      <th>0</th>\n",
       "      <td>Warriors Orochi 3</td>\n",
       "      <td>XOne</td>\n",
       "      <td>Action</td>\n",
       "      <td>Tecmo Koei</td>\n",
       "      <td>unknown</td>\n",
       "      <td>E</td>\n",
       "      <td>2014.0</td>\n",
       "      <td>0.01</td>\n",
       "      <td>0.03</td>\n",
       "      <td>0.00</td>\n",
       "      <td>0.00</td>\n",
       "      <td>0.04</td>\n",
       "      <td>68.997119</td>\n",
       "      <td>26.440992</td>\n",
       "      <td>7.1269</td>\n",
       "      <td>163.008846</td>\n",
       "    </tr>\n",
       "    <tr>\n",
       "      <th>1</th>\n",
       "      <td>Shooter: Starfighter Sanvein</td>\n",
       "      <td>PS</td>\n",
       "      <td>Shooter</td>\n",
       "      <td>Midas Interactive Entertainment</td>\n",
       "      <td>unknown</td>\n",
       "      <td>E</td>\n",
       "      <td>2000.0</td>\n",
       "      <td>0.01</td>\n",
       "      <td>0.01</td>\n",
       "      <td>0.00</td>\n",
       "      <td>0.00</td>\n",
       "      <td>0.02</td>\n",
       "      <td>68.997119</td>\n",
       "      <td>26.440992</td>\n",
       "      <td>7.1269</td>\n",
       "      <td>163.008846</td>\n",
       "    </tr>\n",
       "    <tr>\n",
       "      <th>2</th>\n",
       "      <td>CIMA: The Enemy</td>\n",
       "      <td>GBA</td>\n",
       "      <td>Role-Playing</td>\n",
       "      <td>Marvelous Interactive</td>\n",
       "      <td>Neverland</td>\n",
       "      <td>E</td>\n",
       "      <td>2003.0</td>\n",
       "      <td>0.02</td>\n",
       "      <td>0.01</td>\n",
       "      <td>0.00</td>\n",
       "      <td>0.00</td>\n",
       "      <td>0.03</td>\n",
       "      <td>70.000000</td>\n",
       "      <td>11.000000</td>\n",
       "      <td>7.1269</td>\n",
       "      <td>163.008846</td>\n",
       "    </tr>\n",
       "    <tr>\n",
       "      <th>3</th>\n",
       "      <td>Borderlands: The Pre-Sequel</td>\n",
       "      <td>PS3</td>\n",
       "      <td>Shooter</td>\n",
       "      <td>Take-Two Interactive</td>\n",
       "      <td>2K Australia</td>\n",
       "      <td>M</td>\n",
       "      <td>2014.0</td>\n",
       "      <td>0.26</td>\n",
       "      <td>0.21</td>\n",
       "      <td>0.05</td>\n",
       "      <td>0.10</td>\n",
       "      <td>0.61</td>\n",
       "      <td>77.000000</td>\n",
       "      <td>24.000000</td>\n",
       "      <td>6.3000</td>\n",
       "      <td>130.000000</td>\n",
       "    </tr>\n",
       "    <tr>\n",
       "      <th>4</th>\n",
       "      <td>Destiny</td>\n",
       "      <td>XOne</td>\n",
       "      <td>Shooter</td>\n",
       "      <td>Activision</td>\n",
       "      <td>Bungie Software, Bungie</td>\n",
       "      <td>T</td>\n",
       "      <td>2014.0</td>\n",
       "      <td>2.14</td>\n",
       "      <td>0.92</td>\n",
       "      <td>0.00</td>\n",
       "      <td>0.31</td>\n",
       "      <td>3.37</td>\n",
       "      <td>75.000000</td>\n",
       "      <td>11.000000</td>\n",
       "      <td>5.5000</td>\n",
       "      <td>1735.000000</td>\n",
       "    </tr>\n",
       "  </tbody>\n",
       "</table>\n",
       "</div>"
      ],
      "text/plain": [
       "                           name platform         genre  \\\n",
       "0             Warriors Orochi 3     XOne        Action   \n",
       "1  Shooter: Starfighter Sanvein       PS       Shooter   \n",
       "2               CIMA: The Enemy      GBA  Role-Playing   \n",
       "3   Borderlands: The Pre-Sequel      PS3       Shooter   \n",
       "4                       Destiny     XOne       Shooter   \n",
       "\n",
       "                         publisher                developer rating  \\\n",
       "0                       Tecmo Koei                  unknown      E   \n",
       "1  Midas Interactive Entertainment                  unknown      E   \n",
       "2            Marvelous Interactive                Neverland      E   \n",
       "3             Take-Two Interactive             2K Australia      M   \n",
       "4                       Activision  Bungie Software, Bungie      T   \n",
       "\n",
       "   year_of_release  na_sales  eu_sales  jp_sales  other_sales  global_sales  \\\n",
       "0           2014.0      0.01      0.03      0.00         0.00          0.04   \n",
       "1           2000.0      0.01      0.01      0.00         0.00          0.02   \n",
       "2           2003.0      0.02      0.01      0.00         0.00          0.03   \n",
       "3           2014.0      0.26      0.21      0.05         0.10          0.61   \n",
       "4           2014.0      2.14      0.92      0.00         0.31          3.37   \n",
       "\n",
       "   critic_score  critic_count  user_score   user_count  \n",
       "0     68.997119     26.440992      7.1269   163.008846  \n",
       "1     68.997119     26.440992      7.1269   163.008846  \n",
       "2     70.000000     11.000000      7.1269   163.008846  \n",
       "3     77.000000     24.000000      6.3000   130.000000  \n",
       "4     75.000000     11.000000      5.5000  1735.000000  "
      ]
     },
     "execution_count": 6,
     "metadata": {},
     "output_type": "execute_result"
    }
   ],
   "source": [
    "# Load data\n",
    "video_games = pd.read_csv('../data/train.csv')\n",
    "video_games.head()"
   ]
  },
  {
   "cell_type": "markdown",
   "id": "4a8ef4e7-8bb5-4385-821c-afa4a9c402a4",
   "metadata": {},
   "source": [
    "## Modeling"
   ]
  },
  {
   "cell_type": "markdown",
   "id": "2777e791-5ac1-4739-86a9-3943b4d7fb64",
   "metadata": {},
   "source": [
    "### Model Preparation"
   ]
  },
  {
   "cell_type": "code",
   "execution_count": 7,
   "id": "f052252a-612c-47aa-87e2-5d845633ceeb",
   "metadata": {},
   "outputs": [],
   "source": [
    "# select model features\n",
    "X = video_games.drop(columns=['jp_sales', 'other_sales', 'global_sales', 'name'])\n",
    "# select model target \n",
    "y = video_games['global_sales']\n",
    "\n",
    "# split train data into train and validation sets\n",
    "X_train, X_val, y_train, y_val = train_test_split(X, y, test_size=0.20, random_state=42)"
   ]
  },
  {
   "cell_type": "markdown",
   "id": "36689852-dc9b-4e1e-96c3-e7232bc5f4a9",
   "metadata": {},
   "source": [
    "### Random Forest Fine Tuning"
   ]
  },
  {
   "cell_type": "code",
   "execution_count": 13,
   "id": "924814b3-4d80-41a5-893f-7e717e84ac18",
   "metadata": {},
   "outputs": [
    {
     "name": "stdout",
     "output_type": "stream",
     "text": [
      "Fitting 5 folds for each of 18 candidates, totalling 90 fits\n",
      "RandomForest Best Score: 0.2548281373217177\n",
      "CPU times: user 21min 6s, sys: 971 ms, total: 21min 7s\n",
      "Wall time: 1h 16min 49s\n"
     ]
    },
    {
     "data": {
      "text/plain": [
       "{'rf__max_depth': 20, 'rf__max_features': 'auto', 'rf__n_estimators': 600}"
      ]
     },
     "execution_count": 13,
     "metadata": {},
     "output_type": "execute_result"
    }
   ],
   "source": [
    "%%time\n",
    "# Random Forest pipeline\n",
    "forest_pipe = Pipeline([\n",
    "    ('ohe', OneHotEncoder(sparse=False, handle_unknown='ignore')),\n",
    "    ('sc', StandardScaler()),\n",
    "    ('rf', RandomForestRegressor())\n",
    "])\n",
    "\n",
    "# set up pipe parameters\n",
    "forest_params = {\n",
    "    'rf__n_estimators': [400, 500, 600],\n",
    "    'rf__max_depth': [10, 15, 20],\n",
    "    'rf__max_features': ['sqrt', 'auto']\n",
    "}\n",
    "\n",
    "# instantiate RandomizedSearch with pipe and params\n",
    "forest_grid = GridSearchCV(forest_pipe, forest_params, cv=5, n_jobs=-1, verbose=1)\n",
    "\n",
    "# fit RandomizedSearch model with train data\n",
    "forest_grid.fit(X_train, y_train)\n",
    "\n",
    "# print best score from best model\n",
    "print('RandomForest Best Score:', forest_grid.best_score_)\n",
    "\n",
    "# print parameters from best model\n",
    "forest_grid.best_params_"
   ]
  },
  {
   "cell_type": "code",
   "execution_count": 14,
   "id": "8f269654-8721-478d-a7ed-92367e8470de",
   "metadata": {},
   "outputs": [
    {
     "data": {
      "text/plain": [
       "0.7256874445326937"
      ]
     },
     "execution_count": 14,
     "metadata": {},
     "output_type": "execute_result"
    }
   ],
   "source": [
    "# score model on training data (R-squared)\n",
    "forest_grid.score(X_train, y_train)"
   ]
  },
  {
   "cell_type": "code",
   "execution_count": 15,
   "id": "dc7a3f2c-bea0-4e8d-9466-a43cefd39ac5",
   "metadata": {},
   "outputs": [
    {
     "data": {
      "text/plain": [
       "0.25111282319171524"
      ]
     },
     "execution_count": 15,
     "metadata": {},
     "output_type": "execute_result"
    }
   ],
   "source": [
    "# score model on validation data (R-squared)\n",
    "forest_grid.score(X_val, y_val)"
   ]
  },
  {
   "cell_type": "code",
   "execution_count": 16,
   "id": "8d7b1f87-bb0d-4759-891f-df61b53ef050",
   "metadata": {},
   "outputs": [
    {
     "name": "stdout",
     "output_type": "stream",
     "text": [
      "RMSE Train: 0.7377628673204125\n"
     ]
    }
   ],
   "source": [
    "# RMSE for Train Data\n",
    "forest_preds = forest_grid.predict(X_train)\n",
    "print('RMSE Train:', mean_squared_error(y_train, forest_preds, squared=False))"
   ]
  },
  {
   "cell_type": "code",
   "execution_count": 17,
   "id": "b9cafd2a-31f4-4d20-a77a-b50d6a157306",
   "metadata": {},
   "outputs": [
    {
     "name": "stdout",
     "output_type": "stream",
     "text": [
      "RMSE Train: 1.215990555712607\n"
     ]
    }
   ],
   "source": [
    "# RMSE for Validation Data\n",
    "forest_preds = forest_grid.predict(X_val)\n",
    "print('RMSE Train:', mean_squared_error(y_val, forest_preds, squared=False))"
   ]
  },
  {
   "cell_type": "markdown",
   "id": "d7031d45-5cc7-4e19-bc64-e33b7c89c591",
   "metadata": {},
   "source": [
    "This model is overfitting and performing worst than the Random Forest model using default parameters."
   ]
  },
  {
   "cell_type": "markdown",
   "id": "cedb8a6a-e0d8-4a61-a343-2fb87054aa5b",
   "metadata": {},
   "source": [
    "### Random Forest Further Tuning"
   ]
  },
  {
   "cell_type": "code",
   "execution_count": 5,
   "id": "0221e2ba-3df9-47d1-ab6d-edb5eb48ec0d",
   "metadata": {},
   "outputs": [
    {
     "name": "stdout",
     "output_type": "stream",
     "text": [
      "Fitting 5 folds for each of 4 candidates, totalling 20 fits\n",
      "RandomForest Best Score: 0.3590417861812004\n",
      "CPU times: user 1h 4min 37s, sys: 1.13 s, total: 1h 4min 38s\n",
      "Wall time: 1h 2min 37s\n"
     ]
    },
    {
     "data": {
      "text/plain": [
       "{'rf__max_depth': None, 'rf__max_features': 'auto', 'rf__n_estimators': 1000}"
      ]
     },
     "execution_count": 5,
     "metadata": {},
     "output_type": "execute_result"
    }
   ],
   "source": [
    "%%time\n",
    "# Random Forest pipeline\n",
    "forest_pipe = Pipeline([\n",
    "    ('ohe', OneHotEncoder(sparse=False, handle_unknown='ignore')),\n",
    "    ('sc', StandardScaler()),\n",
    "    ('rf', RandomForestRegressor(n_jobs=12))\n",
    "])\n",
    "\n",
    "# set up pipe parameters\n",
    "forest_params = {\n",
    "    'rf__n_estimators': [600, 1000],\n",
    "    'rf__max_depth': [100, None],\n",
    "    'rf__max_features': ['auto']\n",
    "}\n",
    "\n",
    "# instantiate RandomizedSearch with pipe and params\n",
    "forest_grid = GridSearchCV(forest_pipe, forest_params, cv=5, n_jobs=24, verbose=1)\n",
    "\n",
    "# fit RandomizedSearch model with train data\n",
    "forest_grid.fit(X_train, y_train)\n",
    "\n",
    "# print best score from best model\n",
    "print('RandomForest Best Score:', forest_grid.best_score_)\n",
    "\n",
    "# print parameters from best model\n",
    "forest_grid.best_params_"
   ]
  },
  {
   "cell_type": "code",
   "execution_count": 6,
   "id": "f6986145-1692-476d-9671-2922747f1cdd",
   "metadata": {},
   "outputs": [
    {
     "data": {
      "text/plain": [
       "0.9119134063622014"
      ]
     },
     "execution_count": 6,
     "metadata": {},
     "output_type": "execute_result"
    }
   ],
   "source": [
    "# score model on training data (R-squared)\n",
    "forest_grid.score(X_train, y_train)"
   ]
  },
  {
   "cell_type": "code",
   "execution_count": 7,
   "id": "3f2bfaa6-47f9-4ab4-be0f-7830767ba3c4",
   "metadata": {},
   "outputs": [
    {
     "data": {
      "text/plain": [
       "0.34930892442713224"
      ]
     },
     "execution_count": 7,
     "metadata": {},
     "output_type": "execute_result"
    }
   ],
   "source": [
    "# score model on validation data (R-squared)\n",
    "forest_grid.score(X_val, y_val)"
   ]
  },
  {
   "cell_type": "code",
   "execution_count": 8,
   "id": "a56f042b-af3f-40e6-8408-bc38fce0560a",
   "metadata": {},
   "outputs": [
    {
     "name": "stdout",
     "output_type": "stream",
     "text": [
      "RMSE Train: 0.4180698587581727\n"
     ]
    }
   ],
   "source": [
    "# RMSE for Train Data\n",
    "forest_preds = forest_grid.predict(X_train)\n",
    "print('RMSE Train:', mean_squared_error(y_train, forest_preds, squared=False))"
   ]
  },
  {
   "cell_type": "code",
   "execution_count": 9,
   "id": "027df633-ad74-4286-8dfa-dd7494cbb370",
   "metadata": {},
   "outputs": [
    {
     "name": "stdout",
     "output_type": "stream",
     "text": [
      "RMSE Train: 1.1334684339448633\n"
     ]
    }
   ],
   "source": [
    "# RMSE for Validation Data\n",
    "forest_preds = forest_grid.predict(X_val)\n",
    "print('RMSE Train:', mean_squared_error(y_val, forest_preds, squared=False))"
   ]
  },
  {
   "cell_type": "markdown",
   "id": "89e2a024-193e-450e-8e80-e5856e84e5ab",
   "metadata": {},
   "source": [
    "This model is also performing slightly worst than the Random Forest model with default parameters."
   ]
  },
  {
   "cell_type": "markdown",
   "id": "608722bd-afde-430c-8dae-7a4aa9ea6319",
   "metadata": {},
   "source": [
    "### Final Model"
   ]
  },
  {
   "cell_type": "code",
   "execution_count": 3,
   "id": "4e56b9a5-dbba-4d10-a7ee-ccbd796a9b8c",
   "metadata": {},
   "outputs": [
    {
     "data": {
      "text/html": [
       "<div>\n",
       "<style scoped>\n",
       "    .dataframe tbody tr th:only-of-type {\n",
       "        vertical-align: middle;\n",
       "    }\n",
       "\n",
       "    .dataframe tbody tr th {\n",
       "        vertical-align: top;\n",
       "    }\n",
       "\n",
       "    .dataframe thead th {\n",
       "        text-align: right;\n",
       "    }\n",
       "</style>\n",
       "<table border=\"1\" class=\"dataframe\">\n",
       "  <thead>\n",
       "    <tr style=\"text-align: right;\">\n",
       "      <th></th>\n",
       "      <th>name</th>\n",
       "      <th>platform</th>\n",
       "      <th>genre</th>\n",
       "      <th>publisher</th>\n",
       "      <th>developer</th>\n",
       "      <th>rating</th>\n",
       "      <th>year_of_release</th>\n",
       "      <th>na_sales</th>\n",
       "      <th>eu_sales</th>\n",
       "      <th>jp_sales</th>\n",
       "      <th>other_sales</th>\n",
       "      <th>global_sales</th>\n",
       "      <th>critic_score</th>\n",
       "      <th>critic_count</th>\n",
       "      <th>user_score</th>\n",
       "      <th>user_count</th>\n",
       "    </tr>\n",
       "  </thead>\n",
       "  <tbody>\n",
       "    <tr>\n",
       "      <th>0</th>\n",
       "      <td>Tron 2.0: Killer App</td>\n",
       "      <td>GBA</td>\n",
       "      <td>Action</td>\n",
       "      <td>Disney Interactive Studios</td>\n",
       "      <td>Digital Eclipse</td>\n",
       "      <td>E</td>\n",
       "      <td>2004.0</td>\n",
       "      <td>0.04</td>\n",
       "      <td>0.02</td>\n",
       "      <td>0.00</td>\n",
       "      <td>0.00</td>\n",
       "      <td>0.06</td>\n",
       "      <td>68.000000</td>\n",
       "      <td>16.000000</td>\n",
       "      <td>7.1269</td>\n",
       "      <td>163.008846</td>\n",
       "    </tr>\n",
       "    <tr>\n",
       "      <th>1</th>\n",
       "      <td>Tales of Xillia 2</td>\n",
       "      <td>PS3</td>\n",
       "      <td>Role-Playing</td>\n",
       "      <td>Namco Bandai Games</td>\n",
       "      <td>Bandai Namco Games</td>\n",
       "      <td>T</td>\n",
       "      <td>2012.0</td>\n",
       "      <td>0.20</td>\n",
       "      <td>0.12</td>\n",
       "      <td>0.45</td>\n",
       "      <td>0.07</td>\n",
       "      <td>0.84</td>\n",
       "      <td>71.000000</td>\n",
       "      <td>59.000000</td>\n",
       "      <td>7.9000</td>\n",
       "      <td>216.000000</td>\n",
       "    </tr>\n",
       "    <tr>\n",
       "      <th>2</th>\n",
       "      <td>Totally Spies! Totally Party</td>\n",
       "      <td>PS2</td>\n",
       "      <td>Misc</td>\n",
       "      <td>Ubisoft</td>\n",
       "      <td>unknown</td>\n",
       "      <td>E</td>\n",
       "      <td>2008.0</td>\n",
       "      <td>0.01</td>\n",
       "      <td>0.01</td>\n",
       "      <td>0.00</td>\n",
       "      <td>0.00</td>\n",
       "      <td>0.01</td>\n",
       "      <td>68.997119</td>\n",
       "      <td>26.440992</td>\n",
       "      <td>7.1269</td>\n",
       "      <td>163.008846</td>\n",
       "    </tr>\n",
       "    <tr>\n",
       "      <th>3</th>\n",
       "      <td>Super Fire ProWrestling X</td>\n",
       "      <td>SNES</td>\n",
       "      <td>Fighting</td>\n",
       "      <td>Human Entertainment</td>\n",
       "      <td>unknown</td>\n",
       "      <td>E</td>\n",
       "      <td>1995.0</td>\n",
       "      <td>0.00</td>\n",
       "      <td>0.00</td>\n",
       "      <td>0.28</td>\n",
       "      <td>0.00</td>\n",
       "      <td>0.28</td>\n",
       "      <td>68.997119</td>\n",
       "      <td>26.440992</td>\n",
       "      <td>7.1269</td>\n",
       "      <td>163.008846</td>\n",
       "    </tr>\n",
       "    <tr>\n",
       "      <th>4</th>\n",
       "      <td>Star Fox: Zero</td>\n",
       "      <td>WiiU</td>\n",
       "      <td>Shooter</td>\n",
       "      <td>Nintendo</td>\n",
       "      <td>PlatinumGames</td>\n",
       "      <td>E10+</td>\n",
       "      <td>2016.0</td>\n",
       "      <td>0.17</td>\n",
       "      <td>0.10</td>\n",
       "      <td>0.07</td>\n",
       "      <td>0.03</td>\n",
       "      <td>0.36</td>\n",
       "      <td>69.000000</td>\n",
       "      <td>82.000000</td>\n",
       "      <td>7.4000</td>\n",
       "      <td>662.000000</td>\n",
       "    </tr>\n",
       "  </tbody>\n",
       "</table>\n",
       "</div>"
      ],
      "text/plain": [
       "                           name platform         genre  \\\n",
       "0          Tron 2.0: Killer App      GBA        Action   \n",
       "1             Tales of Xillia 2      PS3  Role-Playing   \n",
       "2  Totally Spies! Totally Party      PS2          Misc   \n",
       "3     Super Fire ProWrestling X     SNES      Fighting   \n",
       "4                Star Fox: Zero     WiiU       Shooter   \n",
       "\n",
       "                    publisher           developer rating  year_of_release  \\\n",
       "0  Disney Interactive Studios     Digital Eclipse      E           2004.0   \n",
       "1          Namco Bandai Games  Bandai Namco Games      T           2012.0   \n",
       "2                     Ubisoft             unknown      E           2008.0   \n",
       "3         Human Entertainment             unknown      E           1995.0   \n",
       "4                    Nintendo       PlatinumGames   E10+           2016.0   \n",
       "\n",
       "   na_sales  eu_sales  jp_sales  other_sales  global_sales  critic_score  \\\n",
       "0      0.04      0.02      0.00         0.00          0.06     68.000000   \n",
       "1      0.20      0.12      0.45         0.07          0.84     71.000000   \n",
       "2      0.01      0.01      0.00         0.00          0.01     68.997119   \n",
       "3      0.00      0.00      0.28         0.00          0.28     68.997119   \n",
       "4      0.17      0.10      0.07         0.03          0.36     69.000000   \n",
       "\n",
       "   critic_count  user_score  user_count  \n",
       "0     16.000000      7.1269  163.008846  \n",
       "1     59.000000      7.9000  216.000000  \n",
       "2     26.440992      7.1269  163.008846  \n",
       "3     26.440992      7.1269  163.008846  \n",
       "4     82.000000      7.4000  662.000000  "
      ]
     },
     "execution_count": 3,
     "metadata": {},
     "output_type": "execute_result"
    }
   ],
   "source": [
    "# Load test data\n",
    "video_game_test = pd.read_csv('../data/test.csv')\n",
    "video_game_test.head()"
   ]
  },
  {
   "cell_type": "code",
   "execution_count": 4,
   "id": "ba09194a-8635-48cc-9018-ba1935195996",
   "metadata": {},
   "outputs": [],
   "source": [
    "# select model features\n",
    "X = video_game_test.drop(columns=['jp_sales', 'other_sales', 'global_sales', 'name'])\n",
    "# select model target \n",
    "y = video_game_test['global_sales']"
   ]
  },
  {
   "cell_type": "code",
   "execution_count": 8,
   "id": "193ce195-f965-4589-9a43-05837449c801",
   "metadata": {},
   "outputs": [
    {
     "data": {
      "text/plain": [
       "Pipeline(steps=[('ohe', OneHotEncoder(handle_unknown='ignore', sparse=False)),\n",
       "                ('sc', StandardScaler()),\n",
       "                ('rf', RandomForestRegressor(n_jobs=-1))])"
      ]
     },
     "execution_count": 8,
     "metadata": {},
     "output_type": "execute_result"
    }
   ],
   "source": [
    "# Data pipeline\n",
    "pipe = Pipeline([\n",
    "    ('ohe', OneHotEncoder(sparse=False, handle_unknown='ignore')),\n",
    "    ('sc', StandardScaler()),\n",
    "    ('rf', RandomForestRegressor(n_jobs=-1))\n",
    "])\n",
    "\n",
    "pipe.fit(X_train, y_train)"
   ]
  },
  {
   "cell_type": "code",
   "execution_count": 13,
   "id": "3785e843-1ee9-4924-8694-a24fbde34830",
   "metadata": {},
   "outputs": [
    {
     "data": {
      "text/plain": [
       "x2_Nintendo             0.059370\n",
       "x7_3.58                 0.033476\n",
       "x6_29.08                0.032408\n",
       "x3_Polyphony Digital    0.028697\n",
       "x7_0.0                  0.028624\n",
       "x6_23.2                 0.028427\n",
       "x6_26.93                0.028249\n",
       "x3_Rockstar North       0.026846\n",
       "x7_12.76                0.022837\n",
       "x6_15.68                0.022371\n",
       "x6_11.27                0.021584\n",
       "x7_8.89                 0.016483\n",
       "x8_97.0                 0.013989\n",
       "x7_6.18                 0.013671\n",
       "x7_2.26                 0.013142\n",
       "x7_0.02                 0.012084\n",
       "x7_0.01                 0.011740\n",
       "x6_9.0                  0.011103\n",
       "x3_Infinity Ward        0.011057\n",
       "x6_0.0                  0.009823\n",
       "dtype: float64"
      ]
     },
     "execution_count": 13,
     "metadata": {},
     "output_type": "execute_result"
    }
   ],
   "source": [
    "columns = pipe.named_steps['ohe'].get_feature_names()\n",
    "feature_importances = pipe.named_steps['rf'].feature_importances_\n",
    "pd.Series(feature_importances, columns).sort_values(ascending=False)[:20]"
   ]
  },
  {
   "cell_type": "markdown",
   "id": "76e1171a-7d5b-4e14-9742-17c97f183643",
   "metadata": {},
   "source": [
    "It appears the most important features for determining game value is the publisher/developer, North American Sales, and the European sales."
   ]
  },
  {
   "cell_type": "code",
   "execution_count": 10,
   "id": "45446d1e-574a-4e2b-86ee-99c6c5eed3b0",
   "metadata": {},
   "outputs": [
    {
     "name": "stdout",
     "output_type": "stream",
     "text": [
      "RMSE Test: 0.6326139187487348\n"
     ]
    }
   ],
   "source": [
    "# RMSE for Test Data\n",
    "preds = pipe.predict(X)\n",
    "print('RMSE Test:', mean_squared_error(y, preds, squared=False))"
   ]
  },
  {
   "cell_type": "markdown",
   "id": "aeaf5fb5-346e-4b63-bf4d-19cb28a71d7b",
   "metadata": {},
   "source": [
    "### Conclusion"
   ]
  },
  {
   "cell_type": "markdown",
   "id": "c17a34cd-1c31-486e-aa2e-b1585dc20436",
   "metadata": {},
   "source": [
    "Overall none of the models were able to outperform the baseline score of 0.53 million. The final RMSE that I was able to attain is 0.63 million. This is actually very close to the baseline, so there is potential for room improvement.\n",
    "\n",
    "The most important features according to this model are the publisher/developer, North American Sales, and European sales. This aligns with the data exploration I conducted, which means the model is picking modeling the data relatively well. \n",
    "\n",
    "With a little bit more exploration on model development I believe there's a possiblity to lower the RMSE below the baseline score. If I were to continue model development I would try using a voting classifier with Random Forest and XGBoost.\n",
    "\n",
    "Some suprising finds were that Platform or Rating were not picked as top significant features, given that Nintendo WII, Playstation, Xbox, and PC are the top platforms and E and M rated games have the most global sales. "
   ]
  },
  {
   "cell_type": "code",
   "execution_count": null,
   "id": "dda223fd-f854-4488-9b8f-cbb299996416",
   "metadata": {},
   "outputs": [],
   "source": []
  }
 ],
 "metadata": {
  "kernelspec": {
   "display_name": "Python 3 (ipykernel)",
   "language": "python",
   "name": "python3"
  },
  "language_info": {
   "codemirror_mode": {
    "name": "ipython",
    "version": 3
   },
   "file_extension": ".py",
   "mimetype": "text/x-python",
   "name": "python",
   "nbconvert_exporter": "python",
   "pygments_lexer": "ipython3",
   "version": "3.8.8"
  }
 },
 "nbformat": 4,
 "nbformat_minor": 5
}
