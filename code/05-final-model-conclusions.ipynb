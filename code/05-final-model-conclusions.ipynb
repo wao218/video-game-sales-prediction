{
 "cells": [
  {
   "cell_type": "markdown",
   "id": "c9634c49-afe4-4255-b497-171bce920e29",
   "metadata": {},
   "source": [
    "# Video Game Sales Prediction\n",
    "---\n",
    "## Problem Statement\n",
    "(Fill in later)"
   ]
  },
  {
   "cell_type": "markdown",
   "id": "54d6e020-3203-4647-bf9a-52fde1d9b799",
   "metadata": {},
   "source": [
    "### Load Libraries & Data"
   ]
  },
  {
   "cell_type": "code",
   "execution_count": 1,
   "id": "2d59933c-5f66-4caf-b4e2-37322c4baec9",
   "metadata": {},
   "outputs": [],
   "source": [
    "import pandas as pd\n",
    "import numpy as np\n",
    "from sklearn.ensemble import RandomForestRegressor\n",
    "from sklearn.preprocessing import StandardScaler, OneHotEncoder\n",
    "from sklearn.metrics import mean_squared_error\n",
    "from sklearn.pipeline import Pipeline\n",
    "from sklearn.model_selection import train_test_split, GridSearchCV\n"
   ]
  },
  {
   "cell_type": "code",
   "execution_count": 2,
   "id": "d6f68a35-6ef3-4a0c-a294-1364022183c0",
   "metadata": {},
   "outputs": [
    {
     "data": {
      "text/html": [
       "<div>\n",
       "<style scoped>\n",
       "    .dataframe tbody tr th:only-of-type {\n",
       "        vertical-align: middle;\n",
       "    }\n",
       "\n",
       "    .dataframe tbody tr th {\n",
       "        vertical-align: top;\n",
       "    }\n",
       "\n",
       "    .dataframe thead th {\n",
       "        text-align: right;\n",
       "    }\n",
       "</style>\n",
       "<table border=\"1\" class=\"dataframe\">\n",
       "  <thead>\n",
       "    <tr style=\"text-align: right;\">\n",
       "      <th></th>\n",
       "      <th>name</th>\n",
       "      <th>platform</th>\n",
       "      <th>genre</th>\n",
       "      <th>publisher</th>\n",
       "      <th>developer</th>\n",
       "      <th>rating</th>\n",
       "      <th>year_of_release</th>\n",
       "      <th>na_sales</th>\n",
       "      <th>eu_sales</th>\n",
       "      <th>jp_sales</th>\n",
       "      <th>other_sales</th>\n",
       "      <th>global_sales</th>\n",
       "      <th>critic_score</th>\n",
       "      <th>critic_count</th>\n",
       "      <th>user_score</th>\n",
       "      <th>user_count</th>\n",
       "    </tr>\n",
       "  </thead>\n",
       "  <tbody>\n",
       "    <tr>\n",
       "      <th>0</th>\n",
       "      <td>Warriors Orochi 3</td>\n",
       "      <td>XOne</td>\n",
       "      <td>Action</td>\n",
       "      <td>Tecmo Koei</td>\n",
       "      <td>unknown</td>\n",
       "      <td>E</td>\n",
       "      <td>2014.0</td>\n",
       "      <td>0.01</td>\n",
       "      <td>0.03</td>\n",
       "      <td>0.00</td>\n",
       "      <td>0.00</td>\n",
       "      <td>0.04</td>\n",
       "      <td>68.997119</td>\n",
       "      <td>26.440992</td>\n",
       "      <td>7.1269</td>\n",
       "      <td>163.008846</td>\n",
       "    </tr>\n",
       "    <tr>\n",
       "      <th>1</th>\n",
       "      <td>Shooter: Starfighter Sanvein</td>\n",
       "      <td>PS</td>\n",
       "      <td>Shooter</td>\n",
       "      <td>Midas Interactive Entertainment</td>\n",
       "      <td>unknown</td>\n",
       "      <td>E</td>\n",
       "      <td>2000.0</td>\n",
       "      <td>0.01</td>\n",
       "      <td>0.01</td>\n",
       "      <td>0.00</td>\n",
       "      <td>0.00</td>\n",
       "      <td>0.02</td>\n",
       "      <td>68.997119</td>\n",
       "      <td>26.440992</td>\n",
       "      <td>7.1269</td>\n",
       "      <td>163.008846</td>\n",
       "    </tr>\n",
       "    <tr>\n",
       "      <th>2</th>\n",
       "      <td>CIMA: The Enemy</td>\n",
       "      <td>GBA</td>\n",
       "      <td>Role-Playing</td>\n",
       "      <td>Marvelous Interactive</td>\n",
       "      <td>Neverland</td>\n",
       "      <td>E</td>\n",
       "      <td>2003.0</td>\n",
       "      <td>0.02</td>\n",
       "      <td>0.01</td>\n",
       "      <td>0.00</td>\n",
       "      <td>0.00</td>\n",
       "      <td>0.03</td>\n",
       "      <td>70.000000</td>\n",
       "      <td>11.000000</td>\n",
       "      <td>7.1269</td>\n",
       "      <td>163.008846</td>\n",
       "    </tr>\n",
       "    <tr>\n",
       "      <th>3</th>\n",
       "      <td>Borderlands: The Pre-Sequel</td>\n",
       "      <td>PS3</td>\n",
       "      <td>Shooter</td>\n",
       "      <td>Take-Two Interactive</td>\n",
       "      <td>2K Australia</td>\n",
       "      <td>M</td>\n",
       "      <td>2014.0</td>\n",
       "      <td>0.26</td>\n",
       "      <td>0.21</td>\n",
       "      <td>0.05</td>\n",
       "      <td>0.10</td>\n",
       "      <td>0.61</td>\n",
       "      <td>77.000000</td>\n",
       "      <td>24.000000</td>\n",
       "      <td>6.3000</td>\n",
       "      <td>130.000000</td>\n",
       "    </tr>\n",
       "    <tr>\n",
       "      <th>4</th>\n",
       "      <td>Destiny</td>\n",
       "      <td>XOne</td>\n",
       "      <td>Shooter</td>\n",
       "      <td>Activision</td>\n",
       "      <td>Bungie Software, Bungie</td>\n",
       "      <td>T</td>\n",
       "      <td>2014.0</td>\n",
       "      <td>2.14</td>\n",
       "      <td>0.92</td>\n",
       "      <td>0.00</td>\n",
       "      <td>0.31</td>\n",
       "      <td>3.37</td>\n",
       "      <td>75.000000</td>\n",
       "      <td>11.000000</td>\n",
       "      <td>5.5000</td>\n",
       "      <td>1735.000000</td>\n",
       "    </tr>\n",
       "  </tbody>\n",
       "</table>\n",
       "</div>"
      ],
      "text/plain": [
       "                           name platform         genre  \\\n",
       "0             Warriors Orochi 3     XOne        Action   \n",
       "1  Shooter: Starfighter Sanvein       PS       Shooter   \n",
       "2               CIMA: The Enemy      GBA  Role-Playing   \n",
       "3   Borderlands: The Pre-Sequel      PS3       Shooter   \n",
       "4                       Destiny     XOne       Shooter   \n",
       "\n",
       "                         publisher                developer rating  \\\n",
       "0                       Tecmo Koei                  unknown      E   \n",
       "1  Midas Interactive Entertainment                  unknown      E   \n",
       "2            Marvelous Interactive                Neverland      E   \n",
       "3             Take-Two Interactive             2K Australia      M   \n",
       "4                       Activision  Bungie Software, Bungie      T   \n",
       "\n",
       "   year_of_release  na_sales  eu_sales  jp_sales  other_sales  global_sales  \\\n",
       "0           2014.0      0.01      0.03      0.00         0.00          0.04   \n",
       "1           2000.0      0.01      0.01      0.00         0.00          0.02   \n",
       "2           2003.0      0.02      0.01      0.00         0.00          0.03   \n",
       "3           2014.0      0.26      0.21      0.05         0.10          0.61   \n",
       "4           2014.0      2.14      0.92      0.00         0.31          3.37   \n",
       "\n",
       "   critic_score  critic_count  user_score   user_count  \n",
       "0     68.997119     26.440992      7.1269   163.008846  \n",
       "1     68.997119     26.440992      7.1269   163.008846  \n",
       "2     70.000000     11.000000      7.1269   163.008846  \n",
       "3     77.000000     24.000000      6.3000   130.000000  \n",
       "4     75.000000     11.000000      5.5000  1735.000000  "
      ]
     },
     "execution_count": 2,
     "metadata": {},
     "output_type": "execute_result"
    }
   ],
   "source": [
    "# Load data\n",
    "video_games = pd.read_csv('../data/train.csv')\n",
    "video_games.head()"
   ]
  },
  {
   "cell_type": "markdown",
   "id": "4a8ef4e7-8bb5-4385-821c-afa4a9c402a4",
   "metadata": {},
   "source": [
    "## Modeling"
   ]
  },
  {
   "cell_type": "markdown",
   "id": "2777e791-5ac1-4739-86a9-3943b4d7fb64",
   "metadata": {},
   "source": [
    "### Model Preparation"
   ]
  },
  {
   "cell_type": "code",
   "execution_count": 4,
   "id": "f052252a-612c-47aa-87e2-5d845633ceeb",
   "metadata": {},
   "outputs": [],
   "source": [
    "# select model features\n",
    "X = video_games.drop(columns=['jp_sales', 'other_sales', 'global_sales', 'name'])\n",
    "# select model target \n",
    "y = video_games['global_sales']\n",
    "\n",
    "# split train data into train and validation sets\n",
    "X_train, X_val, y_train, y_val = train_test_split(X, y, test_size=0.20, random_state=42)"
   ]
  },
  {
   "cell_type": "markdown",
   "id": "36689852-dc9b-4e1e-96c3-e7232bc5f4a9",
   "metadata": {},
   "source": [
    "### Random Forest Fine Tuning"
   ]
  },
  {
   "cell_type": "code",
   "execution_count": 5,
   "id": "8ace991e-91a3-482d-853c-ef99b39a1fc7",
   "metadata": {},
   "outputs": [
    {
     "data": {
      "text/plain": [
       "array([100, 200, 300, 400, 500])"
      ]
     },
     "execution_count": 5,
     "metadata": {},
     "output_type": "execute_result"
    }
   ],
   "source": [
    "np.arange(100, 600, 100)"
   ]
  },
  {
   "cell_type": "code",
   "execution_count": 11,
   "id": "319e1bff-eddf-478f-850d-4436ace56d2b",
   "metadata": {},
   "outputs": [
    {
     "data": {
      "text/plain": [
       "array([3, 5, 7, 9])"
      ]
     },
     "execution_count": 11,
     "metadata": {},
     "output_type": "execute_result"
    }
   ],
   "source": [
    "np.arange(3,10,2)"
   ]
  },
  {
   "cell_type": "code",
   "execution_count": 13,
   "id": "924814b3-4d80-41a5-893f-7e717e84ac18",
   "metadata": {},
   "outputs": [
    {
     "name": "stdout",
     "output_type": "stream",
     "text": [
      "Fitting 5 folds for each of 18 candidates, totalling 90 fits\n",
      "RandomForest Best Score: 0.2548281373217177\n",
      "CPU times: user 21min 6s, sys: 971 ms, total: 21min 7s\n",
      "Wall time: 1h 16min 49s\n"
     ]
    },
    {
     "data": {
      "text/plain": [
       "{'rf__max_depth': 20, 'rf__max_features': 'auto', 'rf__n_estimators': 600}"
      ]
     },
     "execution_count": 13,
     "metadata": {},
     "output_type": "execute_result"
    }
   ],
   "source": [
    "%%time\n",
    "# Random Forest pipeline\n",
    "forest_pipe = Pipeline([\n",
    "    ('ohe', OneHotEncoder(sparse=False, handle_unknown='ignore')),\n",
    "    ('sc', StandardScaler()),\n",
    "    ('rf', RandomForestRegressor())\n",
    "])\n",
    "\n",
    "# set up pipe parameters\n",
    "forest_params = {\n",
    "    'rf__n_estimators': [400, 500, 600],\n",
    "    'rf__max_depth': [10, 15, 20],\n",
    "    'rf__max_features': ['sqrt', 'auto']\n",
    "}\n",
    "\n",
    "# instantiate RandomizedSearch with pipe and params\n",
    "forest_grid = GridSearchCV(forest_pipe, forest_params, cv=5, n_jobs=-1, verbose=1)\n",
    "\n",
    "# fit RandomizedSearch model with train data\n",
    "forest_grid.fit(X_train, y_train)\n",
    "\n",
    "# print best score from best model\n",
    "print('RandomForest Best Score:', forest_grid.best_score_)\n",
    "\n",
    "# print parameters from best model\n",
    "forest_grid.best_params_"
   ]
  },
  {
   "cell_type": "code",
   "execution_count": 14,
   "id": "8f269654-8721-478d-a7ed-92367e8470de",
   "metadata": {},
   "outputs": [
    {
     "data": {
      "text/plain": [
       "0.7256874445326937"
      ]
     },
     "execution_count": 14,
     "metadata": {},
     "output_type": "execute_result"
    }
   ],
   "source": [
    "# score model on training data (R-squared)\n",
    "forest_grid.score(X_train, y_train)"
   ]
  },
  {
   "cell_type": "code",
   "execution_count": 15,
   "id": "dc7a3f2c-bea0-4e8d-9466-a43cefd39ac5",
   "metadata": {},
   "outputs": [
    {
     "data": {
      "text/plain": [
       "0.25111282319171524"
      ]
     },
     "execution_count": 15,
     "metadata": {},
     "output_type": "execute_result"
    }
   ],
   "source": [
    "# score model on validation data (R-squared)\n",
    "forest_grid.score(X_val, y_val)"
   ]
  },
  {
   "cell_type": "code",
   "execution_count": 16,
   "id": "8d7b1f87-bb0d-4759-891f-df61b53ef050",
   "metadata": {},
   "outputs": [
    {
     "name": "stdout",
     "output_type": "stream",
     "text": [
      "RMSE Train: 0.7377628673204125\n"
     ]
    }
   ],
   "source": [
    "# RMSE for Train Data\n",
    "forest_preds = forest_grid.predict(X_train)\n",
    "print('RMSE Train:', mean_squared_error(y_train, forest_preds, squared=False))"
   ]
  },
  {
   "cell_type": "code",
   "execution_count": 17,
   "id": "b9cafd2a-31f4-4d20-a77a-b50d6a157306",
   "metadata": {},
   "outputs": [
    {
     "name": "stdout",
     "output_type": "stream",
     "text": [
      "RMSE Train: 1.215990555712607\n"
     ]
    }
   ],
   "source": [
    "# RMSE for Validation Data\n",
    "forest_preds = forest_grid.predict(X_val)\n",
    "print('RMSE Train:', mean_squared_error(y_val, forest_preds, squared=False))"
   ]
  },
  {
   "cell_type": "markdown",
   "id": "cedb8a6a-e0d8-4a61-a343-2fb87054aa5b",
   "metadata": {},
   "source": [
    "### Random Forest Further Tuning"
   ]
  },
  {
   "cell_type": "code",
   "execution_count": 5,
   "id": "0221e2ba-3df9-47d1-ab6d-edb5eb48ec0d",
   "metadata": {},
   "outputs": [
    {
     "name": "stdout",
     "output_type": "stream",
     "text": [
      "Fitting 5 folds for each of 4 candidates, totalling 20 fits\n",
      "RandomForest Best Score: 0.3590417861812004\n",
      "CPU times: user 1h 4min 37s, sys: 1.13 s, total: 1h 4min 38s\n",
      "Wall time: 1h 2min 37s\n"
     ]
    },
    {
     "data": {
      "text/plain": [
       "{'rf__max_depth': None, 'rf__max_features': 'auto', 'rf__n_estimators': 1000}"
      ]
     },
     "execution_count": 5,
     "metadata": {},
     "output_type": "execute_result"
    }
   ],
   "source": [
    "%%time\n",
    "# Random Forest pipeline\n",
    "forest_pipe = Pipeline([\n",
    "    ('ohe', OneHotEncoder(sparse=False, handle_unknown='ignore')),\n",
    "    ('sc', StandardScaler()),\n",
    "    ('rf', RandomForestRegressor(n_jobs=12))\n",
    "])\n",
    "\n",
    "# set up pipe parameters\n",
    "forest_params = {\n",
    "    'rf__n_estimators': [600, 1000],\n",
    "    'rf__max_depth': [100, None],\n",
    "    'rf__max_features': ['auto']\n",
    "}\n",
    "\n",
    "# instantiate RandomizedSearch with pipe and params\n",
    "forest_grid = GridSearchCV(forest_pipe, forest_params, cv=5, n_jobs=24, verbose=1)\n",
    "\n",
    "# fit RandomizedSearch model with train data\n",
    "forest_grid.fit(X_train, y_train)\n",
    "\n",
    "# print best score from best model\n",
    "print('RandomForest Best Score:', forest_grid.best_score_)\n",
    "\n",
    "# print parameters from best model\n",
    "forest_grid.best_params_"
   ]
  },
  {
   "cell_type": "code",
   "execution_count": 6,
   "id": "f6986145-1692-476d-9671-2922747f1cdd",
   "metadata": {},
   "outputs": [
    {
     "data": {
      "text/plain": [
       "0.9119134063622014"
      ]
     },
     "execution_count": 6,
     "metadata": {},
     "output_type": "execute_result"
    }
   ],
   "source": [
    "# score model on training data (R-squared)\n",
    "forest_grid.score(X_train, y_train)"
   ]
  },
  {
   "cell_type": "code",
   "execution_count": 7,
   "id": "3f2bfaa6-47f9-4ab4-be0f-7830767ba3c4",
   "metadata": {},
   "outputs": [
    {
     "data": {
      "text/plain": [
       "0.34930892442713224"
      ]
     },
     "execution_count": 7,
     "metadata": {},
     "output_type": "execute_result"
    }
   ],
   "source": [
    "# score model on validation data (R-squared)\n",
    "forest_grid.score(X_val, y_val)"
   ]
  },
  {
   "cell_type": "code",
   "execution_count": 8,
   "id": "a56f042b-af3f-40e6-8408-bc38fce0560a",
   "metadata": {},
   "outputs": [
    {
     "name": "stdout",
     "output_type": "stream",
     "text": [
      "RMSE Train: 0.4180698587581727\n"
     ]
    }
   ],
   "source": [
    "# RMSE for Train Data\n",
    "forest_preds = forest_grid.predict(X_train)\n",
    "print('RMSE Train:', mean_squared_error(y_train, forest_preds, squared=False))"
   ]
  },
  {
   "cell_type": "code",
   "execution_count": 9,
   "id": "027df633-ad74-4286-8dfa-dd7494cbb370",
   "metadata": {},
   "outputs": [
    {
     "name": "stdout",
     "output_type": "stream",
     "text": [
      "RMSE Train: 1.1334684339448633\n"
     ]
    }
   ],
   "source": [
    "# RMSE for Validation Data\n",
    "forest_preds = forest_grid.predict(X_val)\n",
    "print('RMSE Train:', mean_squared_error(y_val, forest_preds, squared=False))"
   ]
  },
  {
   "cell_type": "markdown",
   "id": "89e2a024-193e-450e-8e80-e5856e84e5ab",
   "metadata": {},
   "source": []
  },
  {
   "cell_type": "markdown",
   "id": "bf357dc5-9c71-4d18-9699-ce6b1c01ef43",
   "metadata": {},
   "source": [
    "After get best params and scores and metrics:\n",
    "- create one final model with the best params\n",
    "- look for most significant features\n",
    "- make conclusion and recommendations"
   ]
  },
  {
   "cell_type": "markdown",
   "id": "608722bd-afde-430c-8dae-7a4aa9ea6319",
   "metadata": {},
   "source": [
    "### Final Model"
   ]
  },
  {
   "cell_type": "code",
   "execution_count": 32,
   "id": "193ce195-f965-4589-9a43-05837449c801",
   "metadata": {},
   "outputs": [
    {
     "data": {
      "text/plain": [
       "Pipeline(steps=[('ohe', OneHotEncoder(handle_unknown='ignore', sparse=False)),\n",
       "                ('sc', StandardScaler()),\n",
       "                ('rf', RandomForestRegressor(n_jobs=-1))])"
      ]
     },
     "execution_count": 32,
     "metadata": {},
     "output_type": "execute_result"
    }
   ],
   "source": [
    "# Data pipeline\n",
    "pipe = Pipeline([\n",
    "    ('ohe', OneHotEncoder(sparse=False, handle_unknown='ignore')),\n",
    "    ('sc', StandardScaler()),\n",
    "    ('rf', RandomForestRegressor(n_jobs=-1))\n",
    "])\n",
    "\n",
    "pipe.fit(X_train, y_train)"
   ]
  },
  {
   "cell_type": "code",
   "execution_count": 44,
   "id": "3785e843-1ee9-4924-8694-a24fbde34830",
   "metadata": {},
   "outputs": [
    {
     "data": {
      "text/plain": [
       "x2_Nintendo             0.058298\n",
       "x7_3.58                 0.032417\n",
       "x6_23.2                 0.029523\n",
       "x7_0.0                  0.029019\n",
       "x6_29.08                0.028393\n",
       "x6_26.93                0.028300\n",
       "x3_Polyphony Digital    0.026840\n",
       "x7_8.89                 0.024975\n",
       "x3_Rockstar North       0.022875\n",
       "x6_15.68                0.022521\n",
       "x7_12.76                0.021970\n",
       "x6_11.27                0.018685\n",
       "x8_97.0                 0.012453\n",
       "x7_0.02                 0.012203\n",
       "x3_Infinity Ward        0.012092\n",
       "x7_0.01                 0.011838\n",
       "x6_9.0                  0.011694\n",
       "x7_6.18                 0.011609\n",
       "x7_2.26                 0.010226\n",
       "x11_709.0               0.010119\n",
       "dtype: float64"
      ]
     },
     "execution_count": 44,
     "metadata": {},
     "output_type": "execute_result"
    }
   ],
   "source": [
    "columns = pipe.named_steps['ohe'].get_feature_names()\n",
    "feature_importances = pipe.named_steps['rf'].feature_importances_\n",
    "pd.Series(feature_importances, columns).sort_values(ascending=False)[:20]"
   ]
  },
  {
   "cell_type": "markdown",
   "id": "aeaf5fb5-346e-4b63-bf4d-19cb28a71d7b",
   "metadata": {},
   "source": [
    "### Conclusion"
   ]
  },
  {
   "cell_type": "code",
   "execution_count": null,
   "id": "340b6128-68b1-490f-9ac1-7b39efee3716",
   "metadata": {},
   "outputs": [],
   "source": []
  }
 ],
 "metadata": {
  "kernelspec": {
   "display_name": "Python 3 (ipykernel)",
   "language": "python",
   "name": "python3"
  },
  "language_info": {
   "codemirror_mode": {
    "name": "ipython",
    "version": 3
   },
   "file_extension": ".py",
   "mimetype": "text/x-python",
   "name": "python",
   "nbconvert_exporter": "python",
   "pygments_lexer": "ipython3",
   "version": "3.9.7"
  }
 },
 "nbformat": 4,
 "nbformat_minor": 5
}
