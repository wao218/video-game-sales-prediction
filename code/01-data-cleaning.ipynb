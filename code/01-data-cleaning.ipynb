{
 "cells": [
  {
   "cell_type": "markdown",
   "id": "dffa0c49-e3fa-4c81-af1c-6594e54f13de",
   "metadata": {},
   "source": [
    "# Video Game Sales Prediction\n",
    "---\n",
    "## Problem Statement\n",
    "(fill in later)"
   ]
  },
  {
   "cell_type": "markdown",
   "id": "b9f6950d-550f-42f2-8603-7d868e879855",
   "metadata": {},
   "source": [
    "### Load Libraries & Data"
   ]
  },
  {
   "cell_type": "code",
   "execution_count": 171,
   "id": "15f0dd40-e8d7-4e41-a286-0d06b39ccb44",
   "metadata": {},
   "outputs": [],
   "source": [
    "# imports\n",
    "import pandas as pd\n",
    "import numpy as np\n",
    "import requests\n",
    "import time\n",
    "import seaborn as sns\n",
    "from bs4 import BeautifulSoup\n",
    "from sklearn.impute import SimpleImputer\n",
    "from sklearn.model_selection import train_test_split\n",
    "\n",
    "pd.set_option('display.max_rows', 500)"
   ]
  },
  {
   "cell_type": "code",
   "execution_count": 105,
   "id": "aca39478-ce4a-44bd-9e1c-0795705007e5",
   "metadata": {},
   "outputs": [
    {
     "data": {
      "text/html": [
       "<div>\n",
       "<style scoped>\n",
       "    .dataframe tbody tr th:only-of-type {\n",
       "        vertical-align: middle;\n",
       "    }\n",
       "\n",
       "    .dataframe tbody tr th {\n",
       "        vertical-align: top;\n",
       "    }\n",
       "\n",
       "    .dataframe thead th {\n",
       "        text-align: right;\n",
       "    }\n",
       "</style>\n",
       "<table border=\"1\" class=\"dataframe\">\n",
       "  <thead>\n",
       "    <tr style=\"text-align: right;\">\n",
       "      <th></th>\n",
       "      <th>name</th>\n",
       "      <th>platform</th>\n",
       "      <th>year_of_release</th>\n",
       "      <th>genre</th>\n",
       "      <th>publisher</th>\n",
       "      <th>na_sales</th>\n",
       "      <th>eu_sales</th>\n",
       "      <th>jp_sales</th>\n",
       "      <th>other_sales</th>\n",
       "      <th>global_sales</th>\n",
       "      <th>critic_score</th>\n",
       "      <th>critic_count</th>\n",
       "      <th>user_score</th>\n",
       "      <th>user_count</th>\n",
       "      <th>developer</th>\n",
       "      <th>rating</th>\n",
       "    </tr>\n",
       "  </thead>\n",
       "  <tbody>\n",
       "    <tr>\n",
       "      <th>0</th>\n",
       "      <td>Wii Sports</td>\n",
       "      <td>Wii</td>\n",
       "      <td>2006.0</td>\n",
       "      <td>Sports</td>\n",
       "      <td>Nintendo</td>\n",
       "      <td>41.36</td>\n",
       "      <td>28.96</td>\n",
       "      <td>3.77</td>\n",
       "      <td>8.45</td>\n",
       "      <td>82.53</td>\n",
       "      <td>76.0</td>\n",
       "      <td>51.0</td>\n",
       "      <td>8</td>\n",
       "      <td>322.0</td>\n",
       "      <td>Nintendo</td>\n",
       "      <td>E</td>\n",
       "    </tr>\n",
       "    <tr>\n",
       "      <th>1</th>\n",
       "      <td>Super Mario Bros.</td>\n",
       "      <td>NES</td>\n",
       "      <td>1985.0</td>\n",
       "      <td>Platform</td>\n",
       "      <td>Nintendo</td>\n",
       "      <td>29.08</td>\n",
       "      <td>3.58</td>\n",
       "      <td>6.81</td>\n",
       "      <td>0.77</td>\n",
       "      <td>40.24</td>\n",
       "      <td>NaN</td>\n",
       "      <td>NaN</td>\n",
       "      <td>NaN</td>\n",
       "      <td>NaN</td>\n",
       "      <td>NaN</td>\n",
       "      <td>NaN</td>\n",
       "    </tr>\n",
       "    <tr>\n",
       "      <th>2</th>\n",
       "      <td>Mario Kart Wii</td>\n",
       "      <td>Wii</td>\n",
       "      <td>2008.0</td>\n",
       "      <td>Racing</td>\n",
       "      <td>Nintendo</td>\n",
       "      <td>15.68</td>\n",
       "      <td>12.76</td>\n",
       "      <td>3.79</td>\n",
       "      <td>3.29</td>\n",
       "      <td>35.52</td>\n",
       "      <td>82.0</td>\n",
       "      <td>73.0</td>\n",
       "      <td>8.3</td>\n",
       "      <td>709.0</td>\n",
       "      <td>Nintendo</td>\n",
       "      <td>E</td>\n",
       "    </tr>\n",
       "    <tr>\n",
       "      <th>3</th>\n",
       "      <td>Wii Sports Resort</td>\n",
       "      <td>Wii</td>\n",
       "      <td>2009.0</td>\n",
       "      <td>Sports</td>\n",
       "      <td>Nintendo</td>\n",
       "      <td>15.61</td>\n",
       "      <td>10.93</td>\n",
       "      <td>3.28</td>\n",
       "      <td>2.95</td>\n",
       "      <td>32.77</td>\n",
       "      <td>80.0</td>\n",
       "      <td>73.0</td>\n",
       "      <td>8</td>\n",
       "      <td>192.0</td>\n",
       "      <td>Nintendo</td>\n",
       "      <td>E</td>\n",
       "    </tr>\n",
       "    <tr>\n",
       "      <th>4</th>\n",
       "      <td>Pokemon Red/Pokemon Blue</td>\n",
       "      <td>GB</td>\n",
       "      <td>1996.0</td>\n",
       "      <td>Role-Playing</td>\n",
       "      <td>Nintendo</td>\n",
       "      <td>11.27</td>\n",
       "      <td>8.89</td>\n",
       "      <td>10.22</td>\n",
       "      <td>1.00</td>\n",
       "      <td>31.37</td>\n",
       "      <td>NaN</td>\n",
       "      <td>NaN</td>\n",
       "      <td>NaN</td>\n",
       "      <td>NaN</td>\n",
       "      <td>NaN</td>\n",
       "      <td>NaN</td>\n",
       "    </tr>\n",
       "  </tbody>\n",
       "</table>\n",
       "</div>"
      ],
      "text/plain": [
       "                       name platform  year_of_release         genre publisher  \\\n",
       "0                Wii Sports      Wii           2006.0        Sports  Nintendo   \n",
       "1         Super Mario Bros.      NES           1985.0      Platform  Nintendo   \n",
       "2            Mario Kart Wii      Wii           2008.0        Racing  Nintendo   \n",
       "3         Wii Sports Resort      Wii           2009.0        Sports  Nintendo   \n",
       "4  Pokemon Red/Pokemon Blue       GB           1996.0  Role-Playing  Nintendo   \n",
       "\n",
       "   na_sales  eu_sales  jp_sales  other_sales  global_sales  critic_score  \\\n",
       "0     41.36     28.96      3.77         8.45         82.53          76.0   \n",
       "1     29.08      3.58      6.81         0.77         40.24           NaN   \n",
       "2     15.68     12.76      3.79         3.29         35.52          82.0   \n",
       "3     15.61     10.93      3.28         2.95         32.77          80.0   \n",
       "4     11.27      8.89     10.22         1.00         31.37           NaN   \n",
       "\n",
       "   critic_count user_score  user_count developer rating  \n",
       "0          51.0          8       322.0  Nintendo      E  \n",
       "1           NaN        NaN         NaN       NaN    NaN  \n",
       "2          73.0        8.3       709.0  Nintendo      E  \n",
       "3          73.0          8       192.0  Nintendo      E  \n",
       "4           NaN        NaN         NaN       NaN    NaN  "
      ]
     },
     "execution_count": 105,
     "metadata": {},
     "output_type": "execute_result"
    }
   ],
   "source": [
    "# load data\n",
    "video_games = pd.read_csv('../data/video-game-sales.csv')\n",
    "video_games.columns = video_games.columns.str.lower()\n",
    "video_games.head()"
   ]
  },
  {
   "cell_type": "markdown",
   "id": "756a420f-a87f-4da8-b1d4-c29889911213",
   "metadata": {},
   "source": [
    "## Data Cleaning"
   ]
  },
  {
   "cell_type": "code",
   "execution_count": 106,
   "id": "794af58f-8b09-4657-9130-46447e326c40",
   "metadata": {},
   "outputs": [
    {
     "name": "stdout",
     "output_type": "stream",
     "text": [
      "<class 'pandas.core.frame.DataFrame'>\n",
      "RangeIndex: 16719 entries, 0 to 16718\n",
      "Data columns (total 16 columns):\n",
      " #   Column           Non-Null Count  Dtype  \n",
      "---  ------           --------------  -----  \n",
      " 0   name             16717 non-null  object \n",
      " 1   platform         16719 non-null  object \n",
      " 2   year_of_release  16450 non-null  float64\n",
      " 3   genre            16717 non-null  object \n",
      " 4   publisher        16665 non-null  object \n",
      " 5   na_sales         16719 non-null  float64\n",
      " 6   eu_sales         16719 non-null  float64\n",
      " 7   jp_sales         16719 non-null  float64\n",
      " 8   other_sales      16719 non-null  float64\n",
      " 9   global_sales     16719 non-null  float64\n",
      " 10  critic_score     8137 non-null   float64\n",
      " 11  critic_count     8137 non-null   float64\n",
      " 12  user_score       10015 non-null  object \n",
      " 13  user_count       7590 non-null   float64\n",
      " 14  developer        10096 non-null  object \n",
      " 15  rating           9950 non-null   object \n",
      "dtypes: float64(9), object(7)\n",
      "memory usage: 2.0+ MB\n"
     ]
    }
   ],
   "source": [
    "# create copy of dataframe\n",
    "video_games_copy = video_games.copy()\n",
    "\n",
    "# check data types and null values\n",
    "video_games_copy.info()"
   ]
  },
  {
   "cell_type": "code",
   "execution_count": 107,
   "id": "e48c32e5-bb1b-42d3-b274-a20d0477d397",
   "metadata": {},
   "outputs": [
    {
     "data": {
      "text/plain": [
       "name                0.011962\n",
       "platform            0.000000\n",
       "year_of_release     1.608948\n",
       "genre               0.011962\n",
       "publisher           0.322986\n",
       "na_sales            0.000000\n",
       "eu_sales            0.000000\n",
       "jp_sales            0.000000\n",
       "other_sales         0.000000\n",
       "global_sales        0.000000\n",
       "critic_score       51.330821\n",
       "critic_count       51.330821\n",
       "user_score         40.098092\n",
       "user_count         54.602548\n",
       "developer          39.613613\n",
       "rating             40.486871\n",
       "dtype: float64"
      ]
     },
     "execution_count": 107,
     "metadata": {},
     "output_type": "execute_result"
    }
   ],
   "source": [
    "# check percentage of missing values\n",
    "video_games_copy.isnull().mean()*100"
   ]
  },
  {
   "cell_type": "code",
   "execution_count": 108,
   "id": "b6182109-2c7a-4dc2-9ff9-9041731f7b69",
   "metadata": {},
   "outputs": [
    {
     "data": {
      "text/plain": [
       "name                  2\n",
       "platform              0\n",
       "year_of_release     269\n",
       "genre                 2\n",
       "publisher            54\n",
       "na_sales              0\n",
       "eu_sales              0\n",
       "jp_sales              0\n",
       "other_sales           0\n",
       "global_sales          0\n",
       "critic_score       8582\n",
       "critic_count       8582\n",
       "user_score         6704\n",
       "user_count         9129\n",
       "developer          6623\n",
       "rating             6769\n",
       "dtype: int64"
      ]
     },
     "execution_count": 108,
     "metadata": {},
     "output_type": "execute_result"
    }
   ],
   "source": [
    "video_games_copy.isnull().sum()"
   ]
  },
  {
   "cell_type": "code",
   "execution_count": 109,
   "id": "7ba72b0c-b444-47c0-bee7-bfa2f3294f12",
   "metadata": {},
   "outputs": [
    {
     "data": {
      "text/plain": [
       "PS2     2161\n",
       "DS      2152\n",
       "PS3     1331\n",
       "Wii     1320\n",
       "X360    1262\n",
       "PSP     1209\n",
       "PS      1197\n",
       "PC       974\n",
       "XB       824\n",
       "GBA      822\n",
       "GC       556\n",
       "3DS      520\n",
       "PSV      432\n",
       "PS4      393\n",
       "N64      319\n",
       "XOne     247\n",
       "SNES     239\n",
       "SAT      173\n",
       "WiiU     147\n",
       "2600     133\n",
       "NES       98\n",
       "GB        98\n",
       "DC        52\n",
       "GEN       29\n",
       "NG        12\n",
       "SCD        6\n",
       "WS         6\n",
       "3DO        3\n",
       "TG16       2\n",
       "GG         1\n",
       "PCFX       1\n",
       "Name: platform, dtype: int64"
      ]
     },
     "execution_count": 109,
     "metadata": {},
     "output_type": "execute_result"
    }
   ],
   "source": [
    "video_games_copy['platform'].value_counts()"
   ]
  },
  {
   "cell_type": "markdown",
   "id": "83478f3c-1f40-442c-bfea-e621669046d7",
   "metadata": {},
   "source": [
    "#### Initial Plan for handling missing data\n",
    "* Drop all rows with missing names and genre (Reason: can't impute the names, shouldn't effect modeling)\n",
    "* Drop all rows with gaming platforms that do not exist on metacritic (Reason: Project scope restricted to top consoles / makes data wrangling easier. Small subset of data, so shouldn't effect modeling too much. Restricting top console is makes the data more relevant and descriptive of the problem)\n",
    "* Scrape missing data from MetaCritic:\n",
    "   - critic score\n",
    "   - critic count\n",
    "   - user score\n",
    "   - user count\n",
    "   - developer\n",
    "   - rating\n",
    "   - publisher\n",
    "   - year of release"
   ]
  },
  {
   "cell_type": "code",
   "execution_count": 110,
   "id": "cecfc6dd-cdc7-46c0-97f8-dc93fef238f0",
   "metadata": {},
   "outputs": [
    {
     "data": {
      "text/plain": [
       "PS2     2161\n",
       "DS      2152\n",
       "PS3     1331\n",
       "Wii     1320\n",
       "X360    1262\n",
       "PSP     1209\n",
       "PS      1197\n",
       "PC       974\n",
       "XB       824\n",
       "GBA      822\n",
       "GC       556\n",
       "3DS      520\n",
       "PSV      432\n",
       "PS4      393\n",
       "N64      319\n",
       "XOne     247\n",
       "WiiU     147\n",
       "DC        52\n",
       "Name: platform, dtype: int64"
      ]
     },
     "execution_count": 110,
     "metadata": {},
     "output_type": "execute_result"
    }
   ],
   "source": [
    "# Drop rows missing name\n",
    "video_games_copy.dropna(subset=['name'], inplace=True)\n",
    "\n",
    "# remove gaming platforms not on metacritics\n",
    "removed_platforms = ['PCFX', 'GG', 'TG16', '3DO', 'WS', 'SCD', 'NG', 'GEN', 'GB', 'NES', '2600', 'SAT', 'SNES']\n",
    "video_games_copy = video_games_copy[~video_games_copy['platform'].isin(removed_platforms)]\n",
    "\n",
    "# List remaining platforms\n",
    "video_games_copy['platform'].value_counts()"
   ]
  },
  {
   "cell_type": "code",
   "execution_count": 111,
   "id": "ae8aeac1-a164-4c7c-bd65-c6626aa61496",
   "metadata": {},
   "outputs": [
    {
     "data": {
      "text/plain": [
       "name                  0\n",
       "platform              0\n",
       "genre                 0\n",
       "na_sales              0\n",
       "eu_sales              0\n",
       "jp_sales              0\n",
       "other_sales           0\n",
       "global_sales          0\n",
       "publisher            54\n",
       "year_of_release     251\n",
       "developer          5822\n",
       "user_score         5903\n",
       "rating             5968\n",
       "critic_score       7781\n",
       "critic_count       7781\n",
       "user_count         8328\n",
       "dtype: int64"
      ]
     },
     "execution_count": 111,
     "metadata": {},
     "output_type": "execute_result"
    }
   ],
   "source": [
    "video_games_copy.isnull().sum().sort_values()"
   ]
  },
  {
   "cell_type": "code",
   "execution_count": 112,
   "id": "05a76344-1920-4999-9c6a-a1704b0a7514",
   "metadata": {},
   "outputs": [],
   "source": [
    "video_games_null = video_games_copy[video_games_copy.isna().any(axis=1)]"
   ]
  },
  {
   "cell_type": "markdown",
   "id": "2fff324c-d5b3-47e4-b8be-c6cb62efe0e9",
   "metadata": {},
   "source": [
    "### Data Wrangling"
   ]
  },
  {
   "cell_type": "code",
   "execution_count": 113,
   "id": "edb9c81d-6cf4-46b0-8a6d-3d613fb29e6d",
   "metadata": {},
   "outputs": [
    {
     "name": "stdout",
     "output_type": "stream",
     "text": [
      "403\n"
     ]
    }
   ],
   "source": [
    "# target web page\n",
    "url = 'https://www.metacritic.com/game'\n",
    "\n",
    "# establish connection to metacritics website\n",
    "response = requests.get(url)\n",
    "\n",
    "# check status code\n",
    "print(response.status_code)\n",
    "\n",
    "# pull html string\n",
    "html = response.text"
   ]
  },
  {
   "cell_type": "code",
   "execution_count": 114,
   "id": "59ac06b5-60ca-4a42-86e5-036bdd9e26bb",
   "metadata": {},
   "outputs": [
    {
     "name": "stdout",
     "output_type": "stream",
     "text": [
      "\n",
      "<?xml version=\"1.0\" encoding=\"utf-8\"?>\n",
      "<!DOCTYPE html PUBLIC \"-//W3C//DTD XHTML 1.0 Strict//EN\"\n",
      " \"http://www.w3.org/TR/xhtml1/DTD/xhtml1-strict.dtd\">\n",
      "<html>\n",
      "  <head>\n",
      "    <title>403 Forbidden</title>\n",
      "  </head>\n",
      "  <body>\n",
      "    <h1>Error 403 Forbidden</h1>\n",
      "    <p>Forbidden</p>\n",
      "    <h3>Guru Mediation:</h3>\n",
      "    <p>Details: cache-dal21252-DAL 1637253089 3467711014</p>\n",
      "    <hr>\n",
      "    <p>Varnish cache server</p>\n",
      "  </body>\n",
      "</html>\n",
      "\n"
     ]
    }
   ],
   "source": [
    "print(html)"
   ]
  },
  {
   "cell_type": "markdown",
   "id": "c92724d1-1cc2-485f-90ac-a33081d9ea4c",
   "metadata": {},
   "source": [
    "Unable to wrangle data from metacritics. Need explore the data a bit more for a new plan for the missing data."
   ]
  },
  {
   "cell_type": "markdown",
   "id": "65f359cd-0e60-45cf-93ed-fd3b61385c16",
   "metadata": {},
   "source": [
    "## Data Cleaning Continued"
   ]
  },
  {
   "cell_type": "code",
   "execution_count": 120,
   "id": "c61564c9-06fa-4ac0-8a4e-294164ab315d",
   "metadata": {},
   "outputs": [],
   "source": [
    "# recopy the original video games data\n",
    "video_games_final = video_games.copy()"
   ]
  },
  {
   "cell_type": "code",
   "execution_count": 125,
   "id": "c37dc366-86db-415e-9416-6657ee3f825b",
   "metadata": {},
   "outputs": [],
   "source": [
    "# convert user_score to float datatype\n",
    "video_games_final['user_score'] = pd.to_numeric(video_games_final['user_score'], errors=\"coerce\")"
   ]
  },
  {
   "cell_type": "code",
   "execution_count": 129,
   "id": "8cc6630b-c770-4afd-9eab-df96791a8971",
   "metadata": {},
   "outputs": [
    {
     "data": {
      "text/html": [
       "<div>\n",
       "<style scoped>\n",
       "    .dataframe tbody tr th:only-of-type {\n",
       "        vertical-align: middle;\n",
       "    }\n",
       "\n",
       "    .dataframe tbody tr th {\n",
       "        vertical-align: top;\n",
       "    }\n",
       "\n",
       "    .dataframe thead th {\n",
       "        text-align: right;\n",
       "    }\n",
       "</style>\n",
       "<table border=\"1\" class=\"dataframe\">\n",
       "  <thead>\n",
       "    <tr style=\"text-align: right;\">\n",
       "      <th></th>\n",
       "      <th>count</th>\n",
       "      <th>mean</th>\n",
       "      <th>std</th>\n",
       "      <th>min</th>\n",
       "      <th>25%</th>\n",
       "      <th>50%</th>\n",
       "      <th>75%</th>\n",
       "      <th>max</th>\n",
       "    </tr>\n",
       "  </thead>\n",
       "  <tbody>\n",
       "    <tr>\n",
       "      <th>year_of_release</th>\n",
       "      <td>16450.0</td>\n",
       "      <td>2006.487356</td>\n",
       "      <td>5.878995</td>\n",
       "      <td>1980.00</td>\n",
       "      <td>2003.00</td>\n",
       "      <td>2007.00</td>\n",
       "      <td>2010.00</td>\n",
       "      <td>2020.00</td>\n",
       "    </tr>\n",
       "    <tr>\n",
       "      <th>na_sales</th>\n",
       "      <td>16719.0</td>\n",
       "      <td>0.263330</td>\n",
       "      <td>0.813514</td>\n",
       "      <td>0.00</td>\n",
       "      <td>0.00</td>\n",
       "      <td>0.08</td>\n",
       "      <td>0.24</td>\n",
       "      <td>41.36</td>\n",
       "    </tr>\n",
       "    <tr>\n",
       "      <th>eu_sales</th>\n",
       "      <td>16719.0</td>\n",
       "      <td>0.145025</td>\n",
       "      <td>0.503283</td>\n",
       "      <td>0.00</td>\n",
       "      <td>0.00</td>\n",
       "      <td>0.02</td>\n",
       "      <td>0.11</td>\n",
       "      <td>28.96</td>\n",
       "    </tr>\n",
       "    <tr>\n",
       "      <th>jp_sales</th>\n",
       "      <td>16719.0</td>\n",
       "      <td>0.077602</td>\n",
       "      <td>0.308818</td>\n",
       "      <td>0.00</td>\n",
       "      <td>0.00</td>\n",
       "      <td>0.00</td>\n",
       "      <td>0.04</td>\n",
       "      <td>10.22</td>\n",
       "    </tr>\n",
       "    <tr>\n",
       "      <th>other_sales</th>\n",
       "      <td>16719.0</td>\n",
       "      <td>0.047332</td>\n",
       "      <td>0.186710</td>\n",
       "      <td>0.00</td>\n",
       "      <td>0.00</td>\n",
       "      <td>0.01</td>\n",
       "      <td>0.03</td>\n",
       "      <td>10.57</td>\n",
       "    </tr>\n",
       "    <tr>\n",
       "      <th>global_sales</th>\n",
       "      <td>16719.0</td>\n",
       "      <td>0.533543</td>\n",
       "      <td>1.547935</td>\n",
       "      <td>0.01</td>\n",
       "      <td>0.06</td>\n",
       "      <td>0.17</td>\n",
       "      <td>0.47</td>\n",
       "      <td>82.53</td>\n",
       "    </tr>\n",
       "    <tr>\n",
       "      <th>critic_score</th>\n",
       "      <td>8137.0</td>\n",
       "      <td>68.967679</td>\n",
       "      <td>13.938165</td>\n",
       "      <td>13.00</td>\n",
       "      <td>60.00</td>\n",
       "      <td>71.00</td>\n",
       "      <td>79.00</td>\n",
       "      <td>98.00</td>\n",
       "    </tr>\n",
       "    <tr>\n",
       "      <th>critic_count</th>\n",
       "      <td>8137.0</td>\n",
       "      <td>26.360821</td>\n",
       "      <td>18.980495</td>\n",
       "      <td>3.00</td>\n",
       "      <td>12.00</td>\n",
       "      <td>21.00</td>\n",
       "      <td>36.00</td>\n",
       "      <td>113.00</td>\n",
       "    </tr>\n",
       "    <tr>\n",
       "      <th>user_score</th>\n",
       "      <td>7590.0</td>\n",
       "      <td>7.125046</td>\n",
       "      <td>1.500006</td>\n",
       "      <td>0.00</td>\n",
       "      <td>6.40</td>\n",
       "      <td>7.50</td>\n",
       "      <td>8.20</td>\n",
       "      <td>9.70</td>\n",
       "    </tr>\n",
       "    <tr>\n",
       "      <th>user_count</th>\n",
       "      <td>7590.0</td>\n",
       "      <td>162.229908</td>\n",
       "      <td>561.282326</td>\n",
       "      <td>4.00</td>\n",
       "      <td>10.00</td>\n",
       "      <td>24.00</td>\n",
       "      <td>81.00</td>\n",
       "      <td>10665.00</td>\n",
       "    </tr>\n",
       "  </tbody>\n",
       "</table>\n",
       "</div>"
      ],
      "text/plain": [
       "                   count         mean         std      min      25%      50%  \\\n",
       "year_of_release  16450.0  2006.487356    5.878995  1980.00  2003.00  2007.00   \n",
       "na_sales         16719.0     0.263330    0.813514     0.00     0.00     0.08   \n",
       "eu_sales         16719.0     0.145025    0.503283     0.00     0.00     0.02   \n",
       "jp_sales         16719.0     0.077602    0.308818     0.00     0.00     0.00   \n",
       "other_sales      16719.0     0.047332    0.186710     0.00     0.00     0.01   \n",
       "global_sales     16719.0     0.533543    1.547935     0.01     0.06     0.17   \n",
       "critic_score      8137.0    68.967679   13.938165    13.00    60.00    71.00   \n",
       "critic_count      8137.0    26.360821   18.980495     3.00    12.00    21.00   \n",
       "user_score        7590.0     7.125046    1.500006     0.00     6.40     7.50   \n",
       "user_count        7590.0   162.229908  561.282326     4.00    10.00    24.00   \n",
       "\n",
       "                     75%       max  \n",
       "year_of_release  2010.00   2020.00  \n",
       "na_sales            0.24     41.36  \n",
       "eu_sales            0.11     28.96  \n",
       "jp_sales            0.04     10.22  \n",
       "other_sales         0.03     10.57  \n",
       "global_sales        0.47     82.53  \n",
       "critic_score       79.00     98.00  \n",
       "critic_count       36.00    113.00  \n",
       "user_score          8.20      9.70  \n",
       "user_count         81.00  10665.00  "
      ]
     },
     "execution_count": 129,
     "metadata": {},
     "output_type": "execute_result"
    }
   ],
   "source": [
    "# get descriptive stats of video game data\n",
    "video_games_final.describe().T"
   ]
  },
  {
   "cell_type": "markdown",
   "id": "bbac9edc-d049-4611-93ec-da73ff30f855",
   "metadata": {},
   "source": [
    "**critic score** has a pretty big standard deviation. Need to further explore the distribution of data. The mean and the median are pretty close in value.\n",
    "\n",
    "**user score** has a low standard deviation. The mean and median are close in value as well.\n",
    "\n",
    "**critic count** has a big standard deviation. Need to further explore the distribution of data. The mean and median vary in value a bit.\n",
    "\n",
    "**user count** has a huge standard deviation. Need to further explore the distribution of data. The mean and median vary wildly."
   ]
  },
  {
   "cell_type": "code",
   "execution_count": 140,
   "id": "f44a3da7-7c6c-45cc-8e67-0dea31d121be",
   "metadata": {},
   "outputs": [
    {
     "data": {
      "image/png": "[encoded data removed]",
      "text/plain": [
       "<Figure size 432x288 with 1 Axes>"
      ]
     },
     "metadata": {
      "needs_background": "light"
     },
     "output_type": "display_data"
    }
   ],
   "source": [
    "# boxplot for critic count\n",
    "sns.boxplot(x = video_games_final['critic_count']).set(title=\"Distribution of Critic Count\");"
   ]
  },
  {
   "cell_type": "markdown",
   "id": "a6b72332-25df-4e8d-a761-6ddde1f2525c",
   "metadata": {},
   "source": [
    "A lot of outliers for the critc count. Best to impute using the median."
   ]
  },
  {
   "cell_type": "code",
   "execution_count": 141,
   "id": "b6ac4d25-a8b2-4951-90fb-8645ec3a81ec",
   "metadata": {},
   "outputs": [
    {
     "data": {
      "image/png": "[encoded data removed]",
      "text/plain": [
       "<Figure size 432x288 with 1 Axes>"
      ]
     },
     "metadata": {
      "needs_background": "light"
     },
     "output_type": "display_data"
    }
   ],
   "source": [
    "# boxplot for critic score\n",
    "sns.boxplot(x = video_games_final['critic_score']).set(title=\"Distribution of Critic Score\");"
   ]
  },
  {
   "cell_type": "markdown",
   "id": "2ef741c3-de8a-4793-925c-bba745c12c81",
   "metadata": {},
   "source": [
    "A lot of outliers on the lower end of the spectrum. Best to impute using the median."
   ]
  },
  {
   "cell_type": "code",
   "execution_count": 142,
   "id": "e6886932-497d-4839-837d-1b183b14ad84",
   "metadata": {},
   "outputs": [
    {
     "data": {
      "image/png": "[encoded data removed]",
      "text/plain": [
       "<Figure size 432x288 with 1 Axes>"
      ]
     },
     "metadata": {
      "needs_background": "light"
     },
     "output_type": "display_data"
    }
   ],
   "source": [
    "# boxplot for user count\n",
    "sns.boxplot(x = video_games_final['user_count']).set(title=\"Distribution of User Count\");"
   ]
  },
  {
   "cell_type": "markdown",
   "id": "b63063b9-0fd5-4c8e-a0d9-479b77308b85",
   "metadata": {},
   "source": [
    "A lot of outliers for the user count. Best to impute using the median"
   ]
  },
  {
   "cell_type": "code",
   "execution_count": 146,
   "id": "62fd38d3-4007-4e7b-a139-d6982dbfc32c",
   "metadata": {},
   "outputs": [
    {
     "data": {
      "image/png": "[encoded data removed]",
      "text/plain": [
       "<Figure size 432x288 with 1 Axes>"
      ]
     },
     "metadata": {
      "needs_background": "light"
     },
     "output_type": "display_data"
    }
   ],
   "source": [
    "# boxplot for user score\n",
    "sns.boxplot(x = video_games_final['user_score']).set(title=\"Distribution of User Score\");"
   ]
  },
  {
   "cell_type": "markdown",
   "id": "a87c778f-12b3-4055-9b1a-2b9b27efb0bf",
   "metadata": {},
   "source": [
    "A lot of outliers for the user count. Best to impute using the median."
   ]
  },
  {
   "cell_type": "markdown",
   "id": "a58a7b24-bebd-4ba3-b3a4-0822719e0e8f",
   "metadata": {},
   "source": [
    "#### New Plan for Handling Missing data\n",
    "* Drop rows missing name, genre, year of release, and publisher. (Reason: can't wrangle data from metacritic. Droping these rows shouldn't effect modeling too much. Assuming randomized data is missing)\n",
    "* fill the rows with missing developers with \"unknown\". (Reason: shouldn't effect modeling. Easiest as not to lose other important data and doesn't make sense to impute with the mode).\n",
    "* Impute user score, user count, critic score, critic count with median (Reason: each feature contains a large amount of outliers. Using the median shouldn't skew the distribution of the data too much. Better for modeling)\n",
    "* impute rating with the mode (Reason: Most frequently assigned rating for more than 49% of games [source](https://www.esrb.org/blog/e-for-everyone-continues-to-be-most-frequently-assigned-video-game-rating/))"
   ]
  },
  {
   "cell_type": "code",
   "execution_count": 154,
   "id": "fb3edb7d-b789-4bc5-8732-596289a721c9",
   "metadata": {},
   "outputs": [],
   "source": [
    "# Drop missing values in name, genre, year of release, and publisher\n",
    "video_games_final.dropna(subset=['name', 'genre', 'year_of_release', 'publisher'], inplace=True)"
   ]
  },
  {
   "cell_type": "code",
   "execution_count": 157,
   "id": "69712c71-34c6-4ff4-bb03-a22ef2c51a33",
   "metadata": {},
   "outputs": [],
   "source": [
    "# fill missing values in developer with 'unknown'\n",
    "video_games_final['developer'].fillna('unknown', inplace=True)"
   ]
  },
  {
   "cell_type": "code",
   "execution_count": 168,
   "id": "e7d90abb-1403-4958-9496-6357a9c012f8",
   "metadata": {},
   "outputs": [
    {
     "data": {
      "text/html": [
       "<div>\n",
       "<style scoped>\n",
       "    .dataframe tbody tr th:only-of-type {\n",
       "        vertical-align: middle;\n",
       "    }\n",
       "\n",
       "    .dataframe tbody tr th {\n",
       "        vertical-align: top;\n",
       "    }\n",
       "\n",
       "    .dataframe thead th {\n",
       "        text-align: right;\n",
       "    }\n",
       "</style>\n",
       "<table border=\"1\" class=\"dataframe\">\n",
       "  <thead>\n",
       "    <tr style=\"text-align: right;\">\n",
       "      <th></th>\n",
       "      <th>name</th>\n",
       "      <th>platform</th>\n",
       "      <th>genre</th>\n",
       "      <th>publisher</th>\n",
       "      <th>developer</th>\n",
       "      <th>rating</th>\n",
       "      <th>year_of_release</th>\n",
       "      <th>na_sales</th>\n",
       "      <th>eu_sales</th>\n",
       "      <th>jp_sales</th>\n",
       "      <th>other_sales</th>\n",
       "      <th>global_sales</th>\n",
       "      <th>critic_score</th>\n",
       "      <th>critic_count</th>\n",
       "      <th>user_score</th>\n",
       "      <th>user_count</th>\n",
       "    </tr>\n",
       "  </thead>\n",
       "  <tbody>\n",
       "    <tr>\n",
       "      <th>0</th>\n",
       "      <td>Wii Sports</td>\n",
       "      <td>Wii</td>\n",
       "      <td>Sports</td>\n",
       "      <td>Nintendo</td>\n",
       "      <td>Nintendo</td>\n",
       "      <td>E</td>\n",
       "      <td>2006.0</td>\n",
       "      <td>41.36</td>\n",
       "      <td>28.96</td>\n",
       "      <td>3.77</td>\n",
       "      <td>8.45</td>\n",
       "      <td>82.53</td>\n",
       "      <td>76.000000</td>\n",
       "      <td>51.000000</td>\n",
       "      <td>8.0000</td>\n",
       "      <td>322.000000</td>\n",
       "    </tr>\n",
       "    <tr>\n",
       "      <th>1</th>\n",
       "      <td>Super Mario Bros.</td>\n",
       "      <td>NES</td>\n",
       "      <td>Platform</td>\n",
       "      <td>Nintendo</td>\n",
       "      <td>unknown</td>\n",
       "      <td>E</td>\n",
       "      <td>1985.0</td>\n",
       "      <td>29.08</td>\n",
       "      <td>3.58</td>\n",
       "      <td>6.81</td>\n",
       "      <td>0.77</td>\n",
       "      <td>40.24</td>\n",
       "      <td>68.997119</td>\n",
       "      <td>26.440992</td>\n",
       "      <td>7.1269</td>\n",
       "      <td>163.008846</td>\n",
       "    </tr>\n",
       "    <tr>\n",
       "      <th>2</th>\n",
       "      <td>Mario Kart Wii</td>\n",
       "      <td>Wii</td>\n",
       "      <td>Racing</td>\n",
       "      <td>Nintendo</td>\n",
       "      <td>Nintendo</td>\n",
       "      <td>E</td>\n",
       "      <td>2008.0</td>\n",
       "      <td>15.68</td>\n",
       "      <td>12.76</td>\n",
       "      <td>3.79</td>\n",
       "      <td>3.29</td>\n",
       "      <td>35.52</td>\n",
       "      <td>82.000000</td>\n",
       "      <td>73.000000</td>\n",
       "      <td>8.3000</td>\n",
       "      <td>709.000000</td>\n",
       "    </tr>\n",
       "    <tr>\n",
       "      <th>3</th>\n",
       "      <td>Wii Sports Resort</td>\n",
       "      <td>Wii</td>\n",
       "      <td>Sports</td>\n",
       "      <td>Nintendo</td>\n",
       "      <td>Nintendo</td>\n",
       "      <td>E</td>\n",
       "      <td>2009.0</td>\n",
       "      <td>15.61</td>\n",
       "      <td>10.93</td>\n",
       "      <td>3.28</td>\n",
       "      <td>2.95</td>\n",
       "      <td>32.77</td>\n",
       "      <td>80.000000</td>\n",
       "      <td>73.000000</td>\n",
       "      <td>8.0000</td>\n",
       "      <td>192.000000</td>\n",
       "    </tr>\n",
       "    <tr>\n",
       "      <th>4</th>\n",
       "      <td>Pokemon Red/Pokemon Blue</td>\n",
       "      <td>GB</td>\n",
       "      <td>Role-Playing</td>\n",
       "      <td>Nintendo</td>\n",
       "      <td>unknown</td>\n",
       "      <td>E</td>\n",
       "      <td>1996.0</td>\n",
       "      <td>11.27</td>\n",
       "      <td>8.89</td>\n",
       "      <td>10.22</td>\n",
       "      <td>1.00</td>\n",
       "      <td>31.37</td>\n",
       "      <td>68.997119</td>\n",
       "      <td>26.440992</td>\n",
       "      <td>7.1269</td>\n",
       "      <td>163.008846</td>\n",
       "    </tr>\n",
       "  </tbody>\n",
       "</table>\n",
       "</div>"
      ],
      "text/plain": [
       "                       name platform         genre publisher developer rating  \\\n",
       "0                Wii Sports      Wii        Sports  Nintendo  Nintendo      E   \n",
       "1         Super Mario Bros.      NES      Platform  Nintendo   unknown      E   \n",
       "2            Mario Kart Wii      Wii        Racing  Nintendo  Nintendo      E   \n",
       "3         Wii Sports Resort      Wii        Sports  Nintendo  Nintendo      E   \n",
       "4  Pokemon Red/Pokemon Blue       GB  Role-Playing  Nintendo   unknown      E   \n",
       "\n",
       "   year_of_release  na_sales  eu_sales  jp_sales  other_sales  global_sales  \\\n",
       "0           2006.0     41.36     28.96      3.77         8.45         82.53   \n",
       "1           1985.0     29.08      3.58      6.81         0.77         40.24   \n",
       "2           2008.0     15.68     12.76      3.79         3.29         35.52   \n",
       "3           2009.0     15.61     10.93      3.28         2.95         32.77   \n",
       "4           1996.0     11.27      8.89     10.22         1.00         31.37   \n",
       "\n",
       "   critic_score  critic_count  user_score  user_count  \n",
       "0     76.000000     51.000000      8.0000  322.000000  \n",
       "1     68.997119     26.440992      7.1269  163.008846  \n",
       "2     82.000000     73.000000      8.3000  709.000000  \n",
       "3     80.000000     73.000000      8.0000  192.000000  \n",
       "4     68.997119     26.440992      7.1269  163.008846  "
      ]
     },
     "execution_count": 168,
     "metadata": {},
     "output_type": "execute_result"
    }
   ],
   "source": [
    "# create numeric and categorical imputers\n",
    "num_imputer = SimpleImputer(missing_values=np.nan, strategy='mean')\n",
    "cat_imputer = SimpleImputer(missing_values=np.nan, strategy='most_frequent')\n",
    "\n",
    "# split numeric and categorical features\n",
    "num_columns = video_games_final.select_dtypes(np.number).columns\n",
    "cat_columns = video_games_final.select_dtypes(object).columns\n",
    "\n",
    "# split dataframe into numeric and categorical dataframes\n",
    "num_df = video_games_final.select_dtypes(np.number)\n",
    "cat_df = video_games_final.select_dtypes(object)\n",
    "\n",
    "# impute numeric and categorical data\n",
    "num_imp = num_imputer.fit_transform(num_df)\n",
    "cat_imp = cat_imputer.fit_transform(cat_df)\n",
    "\n",
    "# convert imputed data from numpy array to dataframe\n",
    "num_imp_df = pd.DataFrame(num_imp, columns=num_columns)\n",
    "cat_imp_df = pd.DataFrame(cat_imp, columns=cat_columns)\n",
    "\n",
    "# combine imputed numeric and categorical dataframes\n",
    "video_games_final = pd.concat([cat_imp_df, num_imp_df], axis=1)\n",
    "\n",
    "video_games_final.head()"
   ]
  },
  {
   "cell_type": "code",
   "execution_count": 170,
   "id": "8fd42c6c-e73b-4fdc-8361-911fc7d82cab",
   "metadata": {},
   "outputs": [
    {
     "name": "stdout",
     "output_type": "stream",
     "text": [
      "<class 'pandas.core.frame.DataFrame'>\n",
      "RangeIndex: 16416 entries, 0 to 16415\n",
      "Data columns (total 16 columns):\n",
      " #   Column           Non-Null Count  Dtype  \n",
      "---  ------           --------------  -----  \n",
      " 0   name             16416 non-null  object \n",
      " 1   platform         16416 non-null  object \n",
      " 2   genre            16416 non-null  object \n",
      " 3   publisher        16416 non-null  object \n",
      " 4   developer        16416 non-null  object \n",
      " 5   rating           16416 non-null  object \n",
      " 6   year_of_release  16416 non-null  float64\n",
      " 7   na_sales         16416 non-null  float64\n",
      " 8   eu_sales         16416 non-null  float64\n",
      " 9   jp_sales         16416 non-null  float64\n",
      " 10  other_sales      16416 non-null  float64\n",
      " 11  global_sales     16416 non-null  float64\n",
      " 12  critic_score     16416 non-null  float64\n",
      " 13  critic_count     16416 non-null  float64\n",
      " 14  user_score       16416 non-null  float64\n",
      " 15  user_count       16416 non-null  float64\n",
      "dtypes: float64(10), object(6)\n",
      "memory usage: 2.0+ MB\n"
     ]
    }
   ],
   "source": [
    "# final check of missing data and data types\n",
    "video_games_final.info()"
   ]
  },
  {
   "cell_type": "code",
   "execution_count": 173,
   "id": "697f7294-bf3f-423c-b4bd-6b4a6a95c02b",
   "metadata": {},
   "outputs": [],
   "source": [
    "# split data into train and test sets\n",
    "train_set, test_set = train_test_split(video_games_final, test_size=0.20, random_state=42)\n",
    "\n",
    "# save train and test sets into csv's\n",
    "train_set.to_csv('../data/train.csv', index=False)\n",
    "test_set.to_csv('../data/test.csv', index=False)"
   ]
  },
  {
   "cell_type": "code",
   "execution_count": null,
   "id": "1bcf94fe-71d3-4717-b035-55117c3f43d9",
   "metadata": {},
   "outputs": [],
   "source": []
  }
 ],
 "metadata": {
  "kernelspec": {
   "display_name": "Python [conda env:dsi] *",
   "language": "python",
   "name": "conda-env-dsi-py"
  },
  "language_info": {
   "codemirror_mode": {
    "name": "ipython",
    "version": 3
   },
   "file_extension": ".py",
   "mimetype": "text/x-python",
   "name": "python",
   "nbconvert_exporter": "python",
   "pygments_lexer": "ipython3",
   "version": "3.8.8"
  }
 },
 "nbformat": 4,
 "nbformat_minor": 5
}
