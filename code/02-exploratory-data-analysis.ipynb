{
 "cells": [
  {
   "cell_type": "markdown",
   "id": "9507ac83-f6f0-4d83-9394-0ae315d48531",
   "metadata": {},
   "source": [
    "# Video Game Sales Prediction\n",
    "---\n",
    "## Problem Statement\n",
    "(Fill in later)"
   ]
  },
  {
   "cell_type": "code",
   "execution_count": 1,
   "id": "bad88a5c-18bd-411e-a109-548bb96c2093",
   "metadata": {},
   "outputs": [],
   "source": [
    "import pandas as pd\n",
    "import numpy as np\n",
    "import matplotlib.pyplot as plt\n",
    "import seaborn as sns\n"
   ]
  },
  {
   "cell_type": "code",
   "execution_count": null,
   "id": "a3ecb84a-c19b-4ae7-a0d5-7ef0a3b34076",
   "metadata": {},
   "outputs": [],
   "source": []
  }
 ],
 "metadata": {
  "kernelspec": {
   "display_name": "Python [conda env:dsi] *",
   "language": "python",
   "name": "conda-env-dsi-py"
  },
  "language_info": {
   "codemirror_mode": {
    "name": "ipython",
    "version": 3
   },
   "file_extension": ".py",
   "mimetype": "text/x-python",
   "name": "python",
   "nbconvert_exporter": "python",
   "pygments_lexer": "ipython3",
   "version": "3.8.8"
  }
 },
 "nbformat": 4,
 "nbformat_minor": 5
}
