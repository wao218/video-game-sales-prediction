{
 "cells": [
  {
   "cell_type": "markdown",
   "id": "0d6ca429-570c-4772-9736-e76f53004084",
   "metadata": {},
   "source": [
    "# Video Game Sales Prediction\n",
    "---\n",
    "## Problem Statement\n",
    "Gaming analytics company wants to understand the gaming market better. They want a model to predict the global sales of video games to provide better service to their constumers. Goal is to get the lowest RMSE possible."
   ]
  },
  {
   "cell_type": "markdown",
   "id": "1b3898dc-b586-4717-b628-164c36bc4533",
   "metadata": {},
   "source": [
    "### Load Libraries & Data"
   ]
  },
  {
   "cell_type": "code",
   "execution_count": 60,
   "id": "f6889b93-993c-49a1-93fa-d2f5378248e5",
   "metadata": {},
   "outputs": [],
   "source": [
    "import pandas as pd\n",
    "import numpy as np\n",
    "from sklearn.model_selection import train_test_split, cross_val_score\n",
    "from sklearn.preprocessing import OneHotEncoder, StandardScaler\n",
    "from sklearn.pipeline import Pipeline\n",
    "from sklearn.compose import ColumnTransformer\n",
    "from sklearn.linear_model import LinearRegression\n",
    "from sklearn.metrics import mean_squared_error\n",
    "from sklearn.ensemble import RandomForestRegressor\n",
    "from xgboost import XGBRegressor\n"
   ]
  },
  {
   "cell_type": "code",
   "execution_count": 61,
   "id": "6f0ab743-4fa9-4128-b9aa-bf4a565d2a6a",
   "metadata": {},
   "outputs": [
    {
     "data": {
      "text/html": [
       "<div>\n",
       "<style scoped>\n",
       "    .dataframe tbody tr th:only-of-type {\n",
       "        vertical-align: middle;\n",
       "    }\n",
       "\n",
       "    .dataframe tbody tr th {\n",
       "        vertical-align: top;\n",
       "    }\n",
       "\n",
       "    .dataframe thead th {\n",
       "        text-align: right;\n",
       "    }\n",
       "</style>\n",
       "<table border=\"1\" class=\"dataframe\">\n",
       "  <thead>\n",
       "    <tr style=\"text-align: right;\">\n",
       "      <th></th>\n",
       "      <th>name</th>\n",
       "      <th>platform</th>\n",
       "      <th>genre</th>\n",
       "      <th>publisher</th>\n",
       "      <th>developer</th>\n",
       "      <th>rating</th>\n",
       "      <th>year_of_release</th>\n",
       "      <th>na_sales</th>\n",
       "      <th>eu_sales</th>\n",
       "      <th>jp_sales</th>\n",
       "      <th>other_sales</th>\n",
       "      <th>global_sales</th>\n",
       "      <th>critic_score</th>\n",
       "      <th>critic_count</th>\n",
       "      <th>user_score</th>\n",
       "      <th>user_count</th>\n",
       "    </tr>\n",
       "  </thead>\n",
       "  <tbody>\n",
       "    <tr>\n",
       "      <th>0</th>\n",
       "      <td>Warriors Orochi 3</td>\n",
       "      <td>XOne</td>\n",
       "      <td>Action</td>\n",
       "      <td>Tecmo Koei</td>\n",
       "      <td>unknown</td>\n",
       "      <td>E</td>\n",
       "      <td>2014.0</td>\n",
       "      <td>0.01</td>\n",
       "      <td>0.03</td>\n",
       "      <td>0.00</td>\n",
       "      <td>0.00</td>\n",
       "      <td>0.04</td>\n",
       "      <td>68.997119</td>\n",
       "      <td>26.440992</td>\n",
       "      <td>7.1269</td>\n",
       "      <td>163.008846</td>\n",
       "    </tr>\n",
       "    <tr>\n",
       "      <th>1</th>\n",
       "      <td>Shooter: Starfighter Sanvein</td>\n",
       "      <td>PS</td>\n",
       "      <td>Shooter</td>\n",
       "      <td>Midas Interactive Entertainment</td>\n",
       "      <td>unknown</td>\n",
       "      <td>E</td>\n",
       "      <td>2000.0</td>\n",
       "      <td>0.01</td>\n",
       "      <td>0.01</td>\n",
       "      <td>0.00</td>\n",
       "      <td>0.00</td>\n",
       "      <td>0.02</td>\n",
       "      <td>68.997119</td>\n",
       "      <td>26.440992</td>\n",
       "      <td>7.1269</td>\n",
       "      <td>163.008846</td>\n",
       "    </tr>\n",
       "    <tr>\n",
       "      <th>2</th>\n",
       "      <td>CIMA: The Enemy</td>\n",
       "      <td>GBA</td>\n",
       "      <td>Role-Playing</td>\n",
       "      <td>Marvelous Interactive</td>\n",
       "      <td>Neverland</td>\n",
       "      <td>E</td>\n",
       "      <td>2003.0</td>\n",
       "      <td>0.02</td>\n",
       "      <td>0.01</td>\n",
       "      <td>0.00</td>\n",
       "      <td>0.00</td>\n",
       "      <td>0.03</td>\n",
       "      <td>70.000000</td>\n",
       "      <td>11.000000</td>\n",
       "      <td>7.1269</td>\n",
       "      <td>163.008846</td>\n",
       "    </tr>\n",
       "    <tr>\n",
       "      <th>3</th>\n",
       "      <td>Borderlands: The Pre-Sequel</td>\n",
       "      <td>PS3</td>\n",
       "      <td>Shooter</td>\n",
       "      <td>Take-Two Interactive</td>\n",
       "      <td>2K Australia</td>\n",
       "      <td>M</td>\n",
       "      <td>2014.0</td>\n",
       "      <td>0.26</td>\n",
       "      <td>0.21</td>\n",
       "      <td>0.05</td>\n",
       "      <td>0.10</td>\n",
       "      <td>0.61</td>\n",
       "      <td>77.000000</td>\n",
       "      <td>24.000000</td>\n",
       "      <td>6.3000</td>\n",
       "      <td>130.000000</td>\n",
       "    </tr>\n",
       "    <tr>\n",
       "      <th>4</th>\n",
       "      <td>Destiny</td>\n",
       "      <td>XOne</td>\n",
       "      <td>Shooter</td>\n",
       "      <td>Activision</td>\n",
       "      <td>Bungie Software, Bungie</td>\n",
       "      <td>T</td>\n",
       "      <td>2014.0</td>\n",
       "      <td>2.14</td>\n",
       "      <td>0.92</td>\n",
       "      <td>0.00</td>\n",
       "      <td>0.31</td>\n",
       "      <td>3.37</td>\n",
       "      <td>75.000000</td>\n",
       "      <td>11.000000</td>\n",
       "      <td>5.5000</td>\n",
       "      <td>1735.000000</td>\n",
       "    </tr>\n",
       "  </tbody>\n",
       "</table>\n",
       "</div>"
      ],
      "text/plain": [
       "                           name platform  ... user_score   user_count\n",
       "0             Warriors Orochi 3     XOne  ...     7.1269   163.008846\n",
       "1  Shooter: Starfighter Sanvein       PS  ...     7.1269   163.008846\n",
       "2               CIMA: The Enemy      GBA  ...     7.1269   163.008846\n",
       "3   Borderlands: The Pre-Sequel      PS3  ...     6.3000   130.000000\n",
       "4                       Destiny     XOne  ...     5.5000  1735.000000\n",
       "\n",
       "[5 rows x 16 columns]"
      ]
     },
     "execution_count": 61,
     "metadata": {},
     "output_type": "execute_result"
    }
   ],
   "source": [
    "# Load data\n",
    "video_games = pd.read_csv('../data/train.csv')\n",
    "video_games.head()"
   ]
  },
  {
   "cell_type": "markdown",
   "id": "67b59a60-b270-4385-8b77-60baca8dddda",
   "metadata": {
    "tags": []
   },
   "source": [
    "## Modeling"
   ]
  },
  {
   "cell_type": "markdown",
   "id": "e00a48cd-e23e-4ab8-8ea7-ed75d1069936",
   "metadata": {},
   "source": [
    "### Model Preparation"
   ]
  },
  {
   "cell_type": "code",
   "execution_count": 62,
   "id": "91cf121b-7e17-442c-b654-7e9b2c6c95db",
   "metadata": {},
   "outputs": [],
   "source": [
    "# select model features\n",
    "X = video_games.drop(columns=['name','jp_sales', 'other_sales', 'global_sales'])\n",
    "# select model target\n",
    "y = video_games['global_sales']\n",
    "\n",
    "# split train data into train and validation sets\n",
    "X_train, X_val, y_train, y_val = train_test_split(X, y, test_size=0.20, random_state=42)"
   ]
  },
  {
   "cell_type": "markdown",
   "id": "f99ed004-4fbf-4201-94c9-6edd38ff4324",
   "metadata": {},
   "source": [
    "### Baseline Model"
   ]
  },
  {
   "cell_type": "code",
   "execution_count": 63,
   "id": "ea21a6ca-0f19-4a6c-bfbd-c81bccf7dc4a",
   "metadata": {},
   "outputs": [
    {
     "data": {
      "text/plain": [
       "0.5293352116966389"
      ]
     },
     "execution_count": 63,
     "metadata": {},
     "output_type": "execute_result"
    }
   ],
   "source": [
    "# Take the mean to determine the baseline score to beat\n",
    "y.mean()"
   ]
  },
  {
   "cell_type": "markdown",
   "id": "764a5429-8bcd-45fa-9643-7bed002613aa",
   "metadata": {},
   "source": [
    "Baseline is about 0.53 million"
   ]
  },
  {
   "cell_type": "markdown",
   "id": "8ff19dde-ba85-442f-b8c4-a3b5d58eff71",
   "metadata": {},
   "source": [
    "### Linear Regression"
   ]
  },
  {
   "cell_type": "code",
   "execution_count": 64,
   "id": "b57a3c50-f3d2-4d2e-b701-4b8fbbb6b0cc",
   "metadata": {},
   "outputs": [],
   "source": [
    "# Linear Regression Pipeline\n",
    "linreg_pipe = Pipeline([\n",
    "    ('ohe', OneHotEncoder(sparse=False, handle_unknown='ignore')),\n",
    "    ('sc', StandardScaler()),\n",
    "    ('lg', LinearRegression())\n",
    "])"
   ]
  },
  {
   "cell_type": "code",
   "execution_count": 65,
   "id": "c5fb069e-9ce3-43ea-b7f2-7c554148c9ab",
   "metadata": {},
   "outputs": [
    {
     "data": {
      "text/plain": [
       "Pipeline(steps=[('ohe', OneHotEncoder(handle_unknown='ignore', sparse=False)),\n",
       "                ('sc', StandardScaler()), ('lg', LinearRegression())])"
      ]
     },
     "execution_count": 65,
     "metadata": {},
     "output_type": "execute_result"
    }
   ],
   "source": [
    "# fit the training data\n",
    "linreg_pipe.fit(X_train, y_train)"
   ]
  },
  {
   "cell_type": "code",
   "execution_count": 66,
   "id": "73b4a88d-c111-4118-bd51-aea2e0c09627",
   "metadata": {},
   "outputs": [
    {
     "data": {
      "text/plain": [
       "0.9877943283580946"
      ]
     },
     "execution_count": 66,
     "metadata": {},
     "output_type": "execute_result"
    }
   ],
   "source": [
    "# score model on training data (R-Squared)\n",
    "linreg_pipe.score(X_train, y_train)"
   ]
  },
  {
   "cell_type": "markdown",
   "id": "98acc941-4c39-4786-9339-66de3ae5fb9f",
   "metadata": {},
   "source": [
    "Approximately 99% of the variation of the train data can be explained by the features in the model."
   ]
  },
  {
   "cell_type": "code",
   "execution_count": 67,
   "id": "e49d8853-c149-4a1d-ab7f-42ddfc6ea196",
   "metadata": {},
   "outputs": [
    {
     "data": {
      "text/plain": [
       "-9.353933185301364e+25"
      ]
     },
     "execution_count": 67,
     "metadata": {},
     "output_type": "execute_result"
    }
   ],
   "source": [
    "# score model on validation data (R-squared)\n",
    "linreg_pipe.score(X_val, y_val)"
   ]
  },
  {
   "cell_type": "markdown",
   "id": "1c32b0e9-6057-4b45-a7c3-0a5c56a22814",
   "metadata": {},
   "source": [
    "model is very overfit. Approximately -9.35e25% of the validation data can be explained by the features in the model."
   ]
  },
  {
   "cell_type": "code",
   "execution_count": 68,
   "id": "ce834129-b290-4f45-bf5c-a228f5509610",
   "metadata": {},
   "outputs": [
    {
     "data": {
      "text/plain": [
       "-1.1919527464684414e+26"
      ]
     },
     "execution_count": 68,
     "metadata": {},
     "output_type": "execute_result"
    }
   ],
   "source": [
    "# cross validate training data\n",
    "linreg_scores = cross_val_score(linreg_pipe, X_train, y_train, cv=5, n_jobs=-1)\n",
    "linreg_scores.mean()"
   ]
  },
  {
   "cell_type": "markdown",
   "id": "1d4c6583-4620-45eb-9d1e-0e7f8188263c",
   "metadata": {},
   "source": [
    "Linear regression is not performing well on this data. -1.19e26 of the training data is can be explained by the features in the model."
   ]
  },
  {
   "cell_type": "code",
   "execution_count": 69,
   "id": "5c48f75e-c32f-4546-83be-57afa1cf5e32",
   "metadata": {},
   "outputs": [
    {
     "name": "stdout",
     "output_type": "stream",
     "text": [
      "RMSE Train: 0.15562336114097927\n"
     ]
    }
   ],
   "source": [
    "# RMSE for Train data\n",
    "linreg_preds = linreg_pipe.predict(X_train)\n",
    "print('RMSE Train:', mean_squared_error(y_train, linreg_preds, squared=False))"
   ]
  },
  {
   "cell_type": "code",
   "execution_count": 70,
   "id": "479f0b5e-e566-4eef-858b-8a3904b89bc2",
   "metadata": {},
   "outputs": [
    {
     "name": "stdout",
     "output_type": "stream",
     "text": [
      "RMSE Val: 13589989979286.088\n"
     ]
    }
   ],
   "source": [
    "# RMSE for Validation data\n",
    "linreg_preds = linreg_pipe.predict(X_val)\n",
    "print('RMSE Val:', mean_squared_error(y_val, linreg_preds, squared=False))"
   ]
  },
  {
   "cell_type": "markdown",
   "id": "ed494289-6033-4b74-b7a0-98ef1f96e6a6",
   "metadata": {},
   "source": [
    "Linear Regression is not able to model the data accurately. Overall worst than the baseline model. Doesn't make sense to test other linear models like Lasso or Ridge regression."
   ]
  },
  {
   "cell_type": "markdown",
   "id": "95094501-7568-4642-889b-9dd0204112bc",
   "metadata": {},
   "source": [
    "### Random Forest"
   ]
  },
  {
   "cell_type": "code",
   "execution_count": 71,
   "id": "c0be59f6-168b-449c-bb4d-9ce422b3f46d",
   "metadata": {},
   "outputs": [],
   "source": [
    "# Random Forest pipeline\n",
    "forest_pipe = Pipeline([\n",
    "    ('ohe', OneHotEncoder(sparse=False, handle_unknown='ignore')),\n",
    "    ('sc', StandardScaler()),\n",
    "    ('rf', RandomForestRegressor())\n",
    "])"
   ]
  },
  {
   "cell_type": "code",
   "execution_count": 72,
   "id": "6acf0486-281e-4187-999c-1d1aae92ac70",
   "metadata": {},
   "outputs": [
    {
     "data": {
      "text/plain": [
       "Pipeline(steps=[('ohe', OneHotEncoder(handle_unknown='ignore', sparse=False)),\n",
       "                ('sc', StandardScaler()), ('rf', RandomForestRegressor())])"
      ]
     },
     "execution_count": 72,
     "metadata": {},
     "output_type": "execute_result"
    }
   ],
   "source": [
    "# fit the training set\n",
    "forest_pipe.fit(X_train, y_train)"
   ]
  },
  {
   "cell_type": "code",
   "execution_count": 73,
   "id": "eb32b1bb-69c6-4020-a94d-7fe50599a917",
   "metadata": {},
   "outputs": [
    {
     "data": {
      "text/plain": [
       "0.9194278726328529"
      ]
     },
     "execution_count": 73,
     "metadata": {},
     "output_type": "execute_result"
    }
   ],
   "source": [
    "# score model on training data (R-Squared)\n",
    "forest_pipe.score(X_train, y_train)"
   ]
  },
  {
   "cell_type": "markdown",
   "id": "d7952e4a-74cf-46f0-86ca-6bbbaae3a33e",
   "metadata": {},
   "source": [
    "Approximately 92% of the training data variation can be explained by the features in the model"
   ]
  },
  {
   "cell_type": "code",
   "execution_count": 74,
   "id": "acb21bcc-dd33-4467-8b4b-344ca2d3fcee",
   "metadata": {},
   "outputs": [
    {
     "data": {
      "text/plain": [
       "0.35233128960843885"
      ]
     },
     "execution_count": 74,
     "metadata": {},
     "output_type": "execute_result"
    }
   ],
   "source": [
    "# score model on validation data (R-Squared)\n",
    "forest_pipe.score(X_val, y_val)"
   ]
  },
  {
   "cell_type": "markdown",
   "id": "8566a078-d90f-4ae2-9e9d-55b482599ba0",
   "metadata": {},
   "source": [
    "Model is overfitting, but performing better than the Linear Regression model. Approximately 35% of the validation data variation can be explained by the features in the model"
   ]
  },
  {
   "cell_type": "code",
   "execution_count": 75,
   "id": "af594342-fd35-485a-a2e3-964b3a7e0327",
   "metadata": {},
   "outputs": [
    {
     "data": {
      "text/plain": [
       "0.35991874975270777"
      ]
     },
     "execution_count": 75,
     "metadata": {},
     "output_type": "execute_result"
    }
   ],
   "source": [
    "# cross validate training data\n",
    "forest_scores = cross_val_score(forest_pipe, X_train, y_train, cv=5, n_jobs=-1)\n",
    "forest_scores.mean()"
   ]
  },
  {
   "cell_type": "markdown",
   "id": "db66376d-1c6c-4905-8297-99ac46b172a2",
   "metadata": {},
   "source": [
    "Model isn't performing the best, but better than Linear Regression. Approximately 36% of the training data variation can be explained by the features in the model"
   ]
  },
  {
   "cell_type": "code",
   "execution_count": 76,
   "id": "75e9805d-10bf-4a71-9d54-11d1a295f513",
   "metadata": {},
   "outputs": [
    {
     "name": "stdout",
     "output_type": "stream",
     "text": [
      "RMSE Train: 0.39984011625762444\n"
     ]
    }
   ],
   "source": [
    "# RMSE for Train Data\n",
    "forest_preds = forest_pipe.predict(X_train)\n",
    "print('RMSE Train:', mean_squared_error(y_train, forest_preds, squared=False))"
   ]
  },
  {
   "cell_type": "code",
   "execution_count": 77,
   "id": "b6075f32-ca30-4d15-b8de-1bbce70e4791",
   "metadata": {},
   "outputs": [
    {
     "name": "stdout",
     "output_type": "stream",
     "text": [
      "RMSE Val: 1.1308329722357922\n"
     ]
    }
   ],
   "source": [
    "# RMSE for Validation data\n",
    "forest_preds = forest_pipe.predict(X_val)\n",
    "print('RMSE Val:', mean_squared_error(y_val, forest_preds, squared=False))"
   ]
  },
  {
   "cell_type": "markdown",
   "id": "f2a0868c-983d-4359-b326-57c8c26d2083",
   "metadata": {},
   "source": [
    "Model is performing well on validation data. No overfitting present. Not performing better than the baseline."
   ]
  },
  {
   "cell_type": "markdown",
   "id": "c852f7d0-0c66-4d58-b26a-e3e7b85acc9e",
   "metadata": {},
   "source": [
    "### XGBoost"
   ]
  },
  {
   "cell_type": "code",
   "execution_count": 78,
   "id": "21d68597-dd3d-459f-9c96-dd5f02650c2c",
   "metadata": {},
   "outputs": [],
   "source": [
    "# XGBoost pipeline\n",
    "xgb_pipe = Pipeline([\n",
    "    ('ohe', OneHotEncoder(sparse=False, handle_unknown='ignore')),\n",
    "    ('sc', StandardScaler()),\n",
    "    ('xgb', XGBRegressor())\n",
    "]) "
   ]
  },
  {
   "cell_type": "code",
   "execution_count": 79,
   "id": "37854afb-1982-42f8-b1e0-3845c7afbc72",
   "metadata": {},
   "outputs": [
    {
     "data": {
      "text/plain": [
       "Pipeline(steps=[('ohe', OneHotEncoder(handle_unknown='ignore', sparse=False)),\n",
       "                ('sc', StandardScaler()),\n",
       "                ('xgb',\n",
       "                 XGBRegressor(base_score=0.5, booster='gbtree',\n",
       "                              colsample_bylevel=1, colsample_bynode=1,\n",
       "                              colsample_bytree=1, gamma=0, gpu_id=-1,\n",
       "                              importance_type='gain',\n",
       "                              interaction_constraints='',\n",
       "                              learning_rate=0.300000012, max_delta_step=0,\n",
       "                              max_depth=6, min_child_weight=1, missing=nan,\n",
       "                              monotone_constraints='()', n_estimators=100,\n",
       "                              n_jobs=4, num_parallel_tree=1, random_state=0,\n",
       "                              reg_alpha=0, reg_lambda=1, scale_pos_weight=1,\n",
       "                              subsample=1, tree_method='exact',\n",
       "                              validate_parameters=1, verbosity=None))])"
      ]
     },
     "execution_count": 79,
     "metadata": {},
     "output_type": "execute_result"
    }
   ],
   "source": [
    "# fit the training set\n",
    "xgb_pipe.fit(X_train, y_train)"
   ]
  },
  {
   "cell_type": "code",
   "execution_count": 80,
   "id": "eb3bdd6a-ea6c-44e5-81a6-40818c1f2d3a",
   "metadata": {},
   "outputs": [
    {
     "data": {
      "text/plain": [
       "0.9024256094847313"
      ]
     },
     "execution_count": 80,
     "metadata": {},
     "output_type": "execute_result"
    }
   ],
   "source": [
    "# score model on training data (R-Squared)\n",
    "xgb_pipe.score(X_train, y_train)"
   ]
  },
  {
   "cell_type": "markdown",
   "id": "21eede59-622d-4c0f-9004-1b8e2efdcc5a",
   "metadata": {},
   "source": [
    "Approximately 90% of the training data variation can be explained by the features in the model"
   ]
  },
  {
   "cell_type": "code",
   "execution_count": 81,
   "id": "e109dc83-cee7-47ef-b857-95643c6c347e",
   "metadata": {},
   "outputs": [
    {
     "data": {
      "text/plain": [
       "0.3060243911942018"
      ]
     },
     "execution_count": 81,
     "metadata": {},
     "output_type": "execute_result"
    }
   ],
   "source": [
    "# score model on validation data (R-Squared)\n",
    "xgb_pipe.score(X_val, y_val)"
   ]
  },
  {
   "cell_type": "markdown",
   "id": "b979b3e0-8443-4b00-aab0-a63ef0b6a482",
   "metadata": {},
   "source": [
    "Overfitting is present. Performing slightly worst than Random Forests, but better than linear regression. Approximately 31% of the validation data variation can be explained by the features in the model"
   ]
  },
  {
   "cell_type": "code",
   "execution_count": 82,
   "id": "ff94ca63-094a-4057-903e-6d26de4d1d84",
   "metadata": {},
   "outputs": [
    {
     "data": {
      "text/plain": [
       "0.3804003264146777"
      ]
     },
     "execution_count": 82,
     "metadata": {},
     "output_type": "execute_result"
    }
   ],
   "source": [
    "# cross validate training data\n",
    "xgb_scores = cross_val_score(xgb_pipe, X_train, y_train, cv=5, n_jobs=-1)\n",
    "xgb_scores.mean()"
   ]
  },
  {
   "cell_type": "markdown",
   "id": "58c40f3f-e414-428b-baa2-86122edd87ab",
   "metadata": {},
   "source": [
    "Overall xgb cross val score has performed the best out of all three models. Approximately 38% of the training data variation can be explained by the features in the model"
   ]
  },
  {
   "cell_type": "code",
   "execution_count": 83,
   "id": "191d0c3a-433d-453e-b063-50ea1acbdf89",
   "metadata": {},
   "outputs": [
    {
     "name": "stdout",
     "output_type": "stream",
     "text": [
      "RMSE Train: 0.44000931780139585\n"
     ]
    }
   ],
   "source": [
    "# RMSE for the Train data\n",
    "xgb_preds = xgb_pipe.predict(X_train)\n",
    "print('RMSE Train:', mean_squared_error(y_train, xgb_preds, squared=False))"
   ]
  },
  {
   "cell_type": "code",
   "execution_count": 84,
   "id": "33504f46-47e1-41ca-b13c-422ea526fa23",
   "metadata": {},
   "outputs": [
    {
     "name": "stdout",
     "output_type": "stream",
     "text": [
      "RMSE Val: 1.170561155208276\n"
     ]
    }
   ],
   "source": [
    "# RMSE for the Validation data\n",
    "xgb_preds = xgb_pipe.predict(X_val)\n",
    "print('RMSE Val:', mean_squared_error(y_val, xgb_preds, squared=False))"
   ]
  },
  {
   "cell_type": "markdown",
   "id": "dd255502-c43e-4425-906f-94c4c24cd441",
   "metadata": {},
   "source": [
    "XGBoost performed slightly worst than the Random Forest Regressor."
   ]
  },
  {
   "cell_type": "code",
   "execution_count": null,
   "id": "63456fa6-992c-4762-bf45-a4b9e962602a",
   "metadata": {},
   "outputs": [],
   "source": []
  }
 ],
 "metadata": {
  "kernelspec": {
   "display_name": "Python [conda env:dsi] *",
   "language": "python",
   "name": "conda-env-dsi-py"
  },
  "language_info": {
   "codemirror_mode": {
    "name": "ipython",
    "version": 3
   },
   "file_extension": ".py",
   "mimetype": "text/x-python",
   "name": "python",
   "nbconvert_exporter": "python",
   "pygments_lexer": "ipython3",
   "version": "3.8.8"
  }
 },
 "nbformat": 4,
 "nbformat_minor": 5
}
